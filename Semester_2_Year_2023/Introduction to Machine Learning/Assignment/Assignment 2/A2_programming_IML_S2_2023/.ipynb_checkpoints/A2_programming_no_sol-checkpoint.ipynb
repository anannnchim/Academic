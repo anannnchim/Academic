{
 "cells": [
  {
   "attachments": {},
   "cell_type": "markdown",
   "metadata": {},
   "source": [
    "## COMP3670/6670 Programming Assignment 2 - Clustering and Regularization\n",
    "---\n",
    "\n",
    "**Enter Your Student ID:**\n",
    "\n",
    "**Your Name:**\n",
    "    \n",
    "**Deadline:** \n",
    "\n",
    "**Submit:** Write your answers in this file, and submit a single Jupyter Notebook file (.ipynb) on Wattle. Rename this file with your student number as 'uXXXXXXX.ipynb'. Note: you don't need to submit the .png or .npy files. \n",
    "\n",
    "**Enter Discussion Partner IDs Below:**\n",
    "You could add more IDs with the same markdown format above.\n",
    "\n",
    "**Programming Section**:\n",
    "- Tasks 1.1 - 1.4: 30%\n",
    "- Task 1.5-1.7: 30%\n",
    "- Task 2: 40%"
   ]
  },
  {
   "cell_type": "code",
   "execution_count": 1,
   "metadata": {},
   "outputs": [
    {
     "name": "stdout",
     "output_type": "stream",
     "text": [
      "Requirement already satisfied: numpy in /Users/ciuca/miniconda/envs/science/lib/python3.9/site-packages (1.22.4)\n",
      "\u001b[33mWARNING: There was an error checking the latest version of pip.\u001b[0m\u001b[33m\n",
      "\u001b[0mRequirement already satisfied: matplotlib in /Users/ciuca/miniconda/envs/science/lib/python3.9/site-packages (3.5.1)\n",
      "Requirement already satisfied: cycler>=0.10 in /Users/ciuca/miniconda/envs/science/lib/python3.9/site-packages (from matplotlib) (0.10.0)\n",
      "Requirement already satisfied: pyparsing>=2.2.1 in /Users/ciuca/miniconda/envs/science/lib/python3.9/site-packages (from matplotlib) (3.0.4)\n",
      "Requirement already satisfied: packaging>=20.0 in /Users/ciuca/miniconda/envs/science/lib/python3.9/site-packages (from matplotlib) (21.3)\n",
      "Requirement already satisfied: python-dateutil>=2.7 in /Users/ciuca/miniconda/envs/science/lib/python3.9/site-packages (from matplotlib) (2.8.1)\n",
      "Requirement already satisfied: numpy>=1.17 in /Users/ciuca/miniconda/envs/science/lib/python3.9/site-packages (from matplotlib) (1.22.4)\n",
      "Requirement already satisfied: kiwisolver>=1.0.1 in /Users/ciuca/miniconda/envs/science/lib/python3.9/site-packages (from matplotlib) (1.3.1)\n",
      "Requirement already satisfied: pillow>=6.2.0 in /Users/ciuca/miniconda/envs/science/lib/python3.9/site-packages (from matplotlib) (9.4.0)\n",
      "Requirement already satisfied: fonttools>=4.22.0 in /Users/ciuca/miniconda/envs/science/lib/python3.9/site-packages (from matplotlib) (4.28.5)\n",
      "Requirement already satisfied: six in /Users/ciuca/miniconda/envs/science/lib/python3.9/site-packages (from cycler>=0.10->matplotlib) (1.12.0)\n",
      "\u001b[33mWARNING: There was an error checking the latest version of pip.\u001b[0m\u001b[33m\n",
      "\u001b[0mRequirement already satisfied: patchify in /Users/ciuca/miniconda/envs/science/lib/python3.9/site-packages (0.2.3)\n",
      "Requirement already satisfied: numpy<2,>=1 in /Users/ciuca/miniconda/envs/science/lib/python3.9/site-packages (from patchify) (1.22.4)\n",
      "\u001b[33mWARNING: There was an error checking the latest version of pip.\u001b[0m\u001b[33m\n",
      "\u001b[0m"
     ]
    }
   ],
   "source": [
    "import time\n",
    "import sys\n",
    "! pip install numpy\n",
    "import numpy as np\n",
    "! pip install matplotlib\n",
    "import matplotlib.pyplot as plt\n",
    "import math\n",
    "import os\n",
    "from matplotlib.pyplot import imread\n",
    "! pip install patchify\n",
    "from patchify import patchify\n",
    "import math as m\n",
    "\n",
    "np.random.seed(1)\n"
   ]
  },
  {
   "attachments": {},
   "cell_type": "markdown",
   "metadata": {},
   "source": [
    "## Task 1: Clustering\n",
    "-----------\n",
    "These programming exercises will focus on K-means clustering. \n",
    "\n",
    "If you're unsure of how K-Means works, read this very helpful and freely available online breakdown from Stanford's CS221 course; https://stanford.edu/~cpiech/cs221/handouts/kmeans.html\n",
    "\n",
    "This assignment requires you to loosely interpret how K-Means is a specific case of a more general algorithm named Expectation Maximisation. This is explained toward the end of the above article.\n",
    "\n",
    "First, let us load the dataset we'll be using throughout Task 1."
   ]
  },
  {
   "cell_type": "code",
   "execution_count": 87,
   "metadata": {},
   "outputs": [
    {
     "data": {
      "image/png": "[encoded data removed]",
      "text/plain": [
       "<Figure size 432x288 with 1 Axes>"
      ]
     },
     "metadata": {
      "needs_background": "light"
     },
     "output_type": "display_data"
    }
   ],
   "source": [
    "X = np.load(\"./data_clustering.npy\")\n",
    "plt.scatter(X[:,0], X[:,1])\n",
    "plt.show()"
   ]
  },
  {
   "attachments": {},
   "cell_type": "markdown",
   "metadata": {},
   "source": [
    "K-Means is a special, simple case of the Expectation Maximisation (EM) algorithm.\n",
    "\n",
    "This simplified EM (K-Means), is divided into two steps.\n",
    "\n",
    "We refer to a cluster representative as the \"centroid\".\n",
    "\n",
    "The **E-Step**, where for every datapoint in your dataset, you find which \"centroid\" is closest to it, and record that information.\n",
    "\n",
    "The **M-Step**, where you move each \"centroid\" to the center of the samples which were found to be closest to it in the **E-Step**.\n",
    "\n",
    "Each *centroid* is simply an estimated mean of a cluster. If you have $1$ centroid, then this centroid will become the mean of all your data.\n",
    "\n",
    "Centroids are initially random values, and the K-Means algorithm attempts to modify them so that each one represents the center of a cluster.\n",
    "\n",
    "We have implemented a centroids initialization function."
   ]
  },
  {
   "cell_type": "code",
   "execution_count": 88,
   "metadata": {},
   "outputs": [
    {
     "name": "stdout",
     "output_type": "stream",
     "text": [
      "[[ 0.55638768  1.19083041]\n",
      " [ 0.99468733 -0.63105385]\n",
      " [-0.80861347 -0.47487527]\n",
      " [ 0.83443335  0.7038998 ]]\n"
     ]
    }
   ],
   "source": [
    "def initialise_parameters(m, X):\n",
    "    C = X[np.random.choice(X.shape[0], m)]\n",
    "    return C\n",
    "\n",
    "C = initialise_parameters(4, X)\n",
    "print(C)"
   ]
  },
  {
   "attachments": {},
   "cell_type": "markdown",
   "metadata": {},
   "source": [
    "Now let's implement the K-Means algorithm.\n",
    "\n",
    "---\n",
    "   **TASK 1.1:** Create a function $E\\_step(C, X) = L$, where $L$ is a matrix of the same dimension of the dataset $X$.\n",
    "   \n",
    "   This function is is the **E-Step** (or \"assignment step\") mentioned earlier.\n",
    "\n",
    "---\n",
    "\n",
    "**HINT:** \n",
    "- https://stanford.edu/~cpiech/cs221/handouts/kmeans.html\n",
    "- https://en.wikipedia.org/wiki/K-means_clustering#Standard_algorithm\n",
    "- Each row of $L$ is a centroid taken from $C$."
   ]
  },
  {
   "cell_type": "code",
   "execution_count": 73,
   "metadata": {},
   "outputs": [],
   "source": [
    "def E_step(C, X):\n",
    "    # YOUR CODE HERE\n",
    "    pass\n",
    "    \n",
    "L = E_step(C, X)\n",
    "plt.scatter(L[:, 0], L[:, 1])\n",
    "plt.show()"
   ]
  },
  {
   "attachments": {},
   "cell_type": "markdown",
   "metadata": {},
   "source": [
    "---\n",
    "**TASK 1.2:** Create a function $M\\_step(C, X, L) = C$ which returns $C$ modified so that each centroid in $C$ is placed in the middle of the samples assigned to it. This is the **M-Step**.\n",
    "\n",
    "In other words, make each centroid in $C$ the average of all the samples which were found to be closest to it during the **E-step**. This is also called the \"update step\" for K-Means.\n",
    "\n",
    "---\n",
    "\n",
    "**HINT:** https://docs.scipy.org/doc/numpy/reference/generated/numpy.array_equal.html"
   ]
  },
  {
   "cell_type": "code",
   "execution_count": null,
   "metadata": {},
   "outputs": [],
   "source": [
    "def M_step(C, X, L):\n",
    "    # YOUR CODE HERE\n",
    "    pass\n",
    "\n",
    "print('Before:')\n",
    "print(C)\n",
    "print('\\nAfter:')\n",
    "new_C = M_step(C, X, L)\n",
    "print(new_C)"
   ]
  },
  {
   "attachments": {},
   "cell_type": "markdown",
   "metadata": {},
   "source": [
    "---\n",
    "**TASK 1.3:** Implement $kmeans(X, m, threshold) = C, L$ which takes a dataset $X$ (of any dimension) and a scalar value $m$ and a scalar $threshold$ as input. This function uses the previous 3 functions to:\n",
    "- generate $m$ centroids.\n",
    "- iterate between the E and M steps until the difference of loss values between two iterations is less than the threshold to classify the $m$ clusters.\n",
    "\n",
    "...and then returns:\n",
    "- $C$, the centers of the $m$ clusters after convergence.\n",
    "- $L$, the labels (centroid vectors) assigned to each sample in the dataset after convergence.\n",
    "---\n",
    "**HINT:** Using initialise_parameters to initial centroid"
   ]
  },
  {
   "cell_type": "code",
   "execution_count": 70,
   "metadata": {},
   "outputs": [],
   "source": [
    "def kmeans(X, m, threshold):\n",
    "    # YOUR CODE HERE\n",
    "    pass\n",
    "\n",
    "#CODE TO DISPLAY YOUR RESULTS. DO NOT MODIFY.\n",
    "C_final, L_final = kmeans(X, 4, 1e-6)\n",
    "print('Initial Parameters:')\n",
    "print(C)\n",
    "print('\\nFinal Parameters:')\n",
    "print(C_final)\n",
    "\n",
    "def allocator(X, L, c):\n",
    "    cluster = []\n",
    "    for i in range(L.shape[0]):\n",
    "        if np.array_equal(L[i, :], c):\n",
    "            cluster.append(X[i, :])\n",
    "    return np.asarray(cluster)\n",
    "\n",
    "colours = ['r', 'g', 'b', 'y']\n",
    "for i in range(4):\n",
    "    cluster = allocator(X, L_final, C_final[i, :])\n",
    "    plt.scatter(cluster[:,0], cluster[:,1], c=colours[i])\n",
    "plt.show()"
   ]
  },
  {
   "attachments": {},
   "cell_type": "markdown",
   "metadata": {},
   "source": [
    "Your answer should like this, maybe with different colors:\n",
    "![image](./cluster.png)"
   ]
  },
  {
   "attachments": {},
   "cell_type": "markdown",
   "metadata": {},
   "source": [
    "---\n",
    "**Task 1.4:**\n",
    "Implement a function `add_noise` to explore how the results of your clustering method change when you add Gaussian noise to your data.\n",
    "This function will take two parameters, your dataset $X$, and the noise level you want to add.\n",
    "\n",
    "Investigate how adding noise affects the robustness of your K-Means clustering by visually inspecting the results you get after applying K-means to the noisy data.\n",
    "\n",
    "---\n",
    "\n",
    "**Hint:** You can use the function np.random.normal to add noise."
   ]
  },
  {
   "cell_type": "code",
   "execution_count": 83,
   "metadata": {},
   "outputs": [],
   "source": [
    "# Function to add noise to the data\n",
    "def add_noise(X, noise_level):\n",
    "   #YOUR CODE Here\n",
    "\n",
    "   pass\n",
    "\n",
    "# Running K-Means with different noise levels\n",
    "noise_levels = [0.01, 0.05, 0.1]\n",
    "for noise_level in noise_levels:\n",
    "    noisy_data = add_noise(X, noise_level)\n",
    "    #YOUR CODE Here\n"
   ]
  },
  {
   "attachments": {},
   "cell_type": "markdown",
   "metadata": {},
   "source": [
    "---\n",
    "**Task 1.5:**\n",
    "Friends-of-Friends (FoF) Algorithm\n",
    "\n",
    " In this task, you will implement and apply the Friends-of-Friends (FoF) clustering algorithm to identify clusters in your dataset $X$. \n",
    " \n",
    " FoF is used to identify groups of particles in cosmological simulations that describe how the Universe evolves. For example, you can have a look at the incredible IllustrisTNG simulations https://www.tng-project.org/media/. The videos show the hierarchical structure formation in a simulated Universe.\n",
    "\n",
    " Implementation details:\n",
    " \n",
    "The goal of the FoF algorithm is to identify clusters of objects that are closer to each other than a specified distance threshold.\n",
    "\n",
    "If two objects are closer to each other than a given distance (called the linking length and denoted by $b$), they are considered \"friends.\" If object A is friends with object B, and object B is friends with object C, then A, B, and C are all part of the same cluster.\n",
    "\n",
    "General algorithm steps:\n",
    "1. **Initialization**: Initialise a set of points.\n",
    "2. **Linking Length Definition**: Select a distance, $b$, to be the criterion for connecting entities. \n",
    "3. **Clustering**:\n",
    "\n",
    "   a. **Connection Analysis**: Determine connections between entities within distance $b$. If the distance between entitities A and B is less than $b$, then A and B are connected.\n",
    "   \n",
    "   b. **Group Formation**: Form or join groups based on connections; merge groups if necessary. \n",
    "\n",
    "4. **Completion**: Finalize groups; unconnected entities may be disregarded.\n",
    "\n",
    "\n",
    "\n",
    " ---\n",
    "\n",
    " **Hint**: You can use the  distance_matrix from scipy.spatial to compute the distances between the datapoints."
   ]
  },
  {
   "cell_type": "code",
   "execution_count": 66,
   "metadata": {},
   "outputs": [
    {
     "data": {
      "text/plain": [
       "array([[2.23606798, 3.        ],\n",
       "       [2.23606798, 1.        ]])"
      ]
     },
     "execution_count": 66,
     "metadata": {},
     "output_type": "execute_result"
    }
   ],
   "source": [
    "#example showing how to use the distance_matrix function\n",
    "from scipy.spatial import distance_matrix\n",
    "\n",
    "#The distance matrix is a matrix containing the Euclidean distances between all pairs of points of a given set of points.\n",
    "arr1 = np.array([[1, 1], [2, 4]])\n",
    "arr2 = np.array([[3, 2], [1, 4]])\n",
    "\n",
    "dist_matrix = distance_matrix(arr1, arr2)\n",
    "dist_matrix"
   ]
  },
  {
   "cell_type": "code",
   "execution_count": 59,
   "metadata": {},
   "outputs": [
    {
     "name": "stdout",
     "output_type": "stream",
     "text": [
      "Number of clusters found: 4\n"
     ]
    }
   ],
   "source": [
    "#implement your function here\n",
    "#Your fof_clustering(X, b)  should return a list of lists, where each list contains the indices of the points in a cluster.\n",
    "def fof_clustering(X, b):\n",
    "    # YOUR CODE HERE\n",
    "        \n",
    "    pass\n",
    "\n",
    "# Example usage\n",
    "b = 0.4\n",
    "\n",
    "clusters_fof = fof_clustering(X, b)\n",
    "print(\"Number of clusters found:\", len(clusters_fof))\n",
    "\n",
    "#"
   ]
  },
  {
   "cell_type": "code",
   "execution_count": 58,
   "metadata": {},
   "outputs": [],
   "source": [
    "#Plot your FoF clustering results here\n",
    "\n",
    "colors = plt.cm.get_cmap('viridis', len(clusters_fof))\n",
    "\n",
    "for i, cluster in enumerate(clusters_fof):\n",
    "    plt.scatter(X[cluster, 0], X[cluster, 1], color=colors(i), label=f'Cluster {i+1}')\n",
    "\n",
    "plt.title('Friends-of-Friends Clusters')\n",
    "plt.legend()\n",
    "plt.show()\n"
   ]
  },
  {
   "attachments": {},
   "cell_type": "markdown",
   "metadata": {},
   "source": [
    "---\n",
    "**TASK 1.6:** \n",
    "The Within-Cluster-Sum-of-Squares (WCSS) is defined as:\n",
    "\n",
    "$$\\text{WCSS} = \\sum_{k=1}^{K} \\sum_{i \\in C_k} \\left\\| \\mathbf{x}_i - \\mathbf{c}_k \\right\\|^2$$\n",
    "\n",
    "Create a function `wcss` which takes as input the data and the clusters and computes the total within-cluster sum of square.\n",
    "\n",
    "---\n",
    "\n"
   ]
  },
  {
   "cell_type": "code",
   "execution_count": 84,
   "metadata": {},
   "outputs": [],
   "source": [
    "def wcss(X, clusters):\n",
    "    #YOUR CODE HERE\n",
    "\n",
    "    pass\n"
   ]
  },
  {
   "cell_type": "code",
   "execution_count": 68,
   "metadata": {},
   "outputs": [],
   "source": [
    "#Investigate what value of b is best.\n",
    "b_values = np.arange(0.1, 1, 0.05)\n",
    "wcss_values = [wcss(X, fof_clustering(X, b)) for b in b_values]\n",
    "\n",
    "plt.plot(b_values, wcss_values, marker='o')\n",
    "plt.xlabel('Linking Length (b)')\n",
    "plt.ylabel('Within-Cluster Sum of Squares (WCSS)')\n",
    "plt.title('Elbow Method for Optimal b')\n",
    "plt.show()\n"
   ]
  },
  {
   "cell_type": "markdown",
   "metadata": {},
   "source": [
    "---\n",
    "**TASK 1.7:**  \n",
    "Compare the robustness of the FoF (Friends-of-Friends) algorithm on the dataset X by investigating how the WCSS (within-cluster sum of squares) changes depending on the level of noise added to the data.\n",
    "\n",
    "\n",
    "---"
   ]
  },
  {
   "cell_type": "code",
   "execution_count": 89,
   "metadata": {},
   "outputs": [],
   "source": [
    "#YOUR CODE HERE"
   ]
  },
  {
   "attachments": {},
   "cell_type": "markdown",
   "metadata": {},
   "source": [
    "## Task 2: Model Selection & Regularization\n",
    "---\n",
    "\n",
    "For excercise 2, we are going to to attempt fitting a model to a dataset.\n",
    "Our goal is to understand the balance between model's capacity and the quality and quantity of the data that it learns from.\n"
   ]
  },
  {
   "cell_type": "code",
   "execution_count": 18,
   "metadata": {},
   "outputs": [
    {
     "data": {
      "image/png": "[encoded data removed]",
      "text/plain": [
       "<Figure size 432x288 with 1 Axes>"
      ]
     },
     "metadata": {
      "needs_background": "light"
     },
     "output_type": "display_data"
    }
   ],
   "source": [
    "# Function to plot the graph of sin(x) and sample 20 points from the curve with noise\n",
    "X = np.linspace(-np.pi, np.pi, 256, endpoint=True)\n",
    "def f(x):\n",
    "    return np.sin(x*np.pi/1.5) * x\n",
    "y = f(X)\n",
    "\n",
    "epsilon = 0.5\n",
    "number_samples = 15\n",
    "\n",
    "# Sample 20 points from the curve with noise\n",
    "X_sample = np.linspace(-np.pi, np.pi, number_samples)\n",
    "y_sample = f(X_sample) + epsilon * np.random.randn(number_samples)\n",
    "\n",
    "# Plot the graph\n",
    "plt.plot(X, y, color=\"blue\", linewidth=0.5, linestyle=\"--\", label=\"sin(x)\")\n",
    "plt.scatter(X_sample, y_sample, color=\"red\", label=\"sampled\")\n",
    "plt.legend(loc='upper left')\n",
    "plt.show()"
   ]
  },
  {
   "attachments": {},
   "cell_type": "markdown",
   "metadata": {},
   "source": [
    "Curve fitting is one of the most fundamental machine learning tasks. Of which linear regression is the most straight forward. It establishes a relationship between two variables using a linear equation. When predicting one variable based on another, we call the variable we're predicting the dependent variable, and the variable we use for prediction the independent variable.\n",
    "\n",
    "In this task, we're aiming to predict y (the dependent variable) based on x (the independent variable). The function we're trying to learn is:\n",
    "\n",
    "$$ \n",
    "    y = sin (2 \\pi x)\n",
    "$$\n",
    "\n",
    "But all we have is a collection of data points sampled from this function with some noise added to it. Our goal is to find a function that best fits the data points. This is called curve fitting.\n",
    "\n",
    "Objective:\n",
    "\n",
    "Your goal is to determine the best linear relationship (a straight line) that describes how changes in the independent variable x can predict changes in the dependent variable $y$.\n",
    "\n",
    "The Linear Equation:\n",
    "\n",
    "The equation for this line is:\n",
    "$$ \n",
    "    y=wx+b \n",
    "$$\n",
    "\n",
    "where:\n",
    "\n",
    "- $y$ is the predicted output,\n",
    "- $x$ is the input feature,\n",
    "- $w$ is the weight (or slope) of the line, and\n",
    "- $b$ is the bias (or y-intercept) of the line.\n",
    "\n",
    "The terms \"weight\" and \"bias\" stem from machine learning terminology, but you might have referred to them as the \"coefficient\" and the \"intercept\", respectively.\n",
    "\n",
    "Learning:\n",
    "\n",
    "\"Learning\" in the context of linear regression means adjusting values of w and \n",
    "b based on the data (i.e., the given $x$ and $y$ values) such that the line (or the \"model\") predicts the output \n",
    "$y$ as accurately as possible for each corresponding input $x$.\n",
    "\n",
    "\n",
    "When designing a linear regression model, our primary goal is to find a line that best fits the given data points. This \"best fit\" can be thought of as the line that minimizes the distance (error) between itself and each data point. Specifically, we want to minimize the sum of the squared vertical distances (or residuals) between the data points and the line. Let's consider our line as $y=wx+b$. For each data point $(x_i, y_i)$, the predicted value on the line is $\\hat{y}^i ​= wx_i + b$. The residual (difference between observed and predicted values) for this data point is $y_i ​ − \\hat{y}^i$. We square these residuals to penalize larger deviations more and sum them up for all data points. We can express this as a function of $w$ and $b$:\n",
    "\n",
    "$$\n",
    "\\sum_{i=1}^{n} (y_i - \\hat{y_i})^2 = \\sum_{i=1}^{n} (y_i - (wx_i + b))^2\t\n",
    "$$\n",
    "\n",
    "Differentiating and setting the derivatives for $w$ and $b$ to zero yields the normal equations:\n",
    "$$\n",
    "w = \\frac{\\sum_{i=1}^n (x_i - \\bar{x})(y_i - \\bar{y})}{\\sum_{i=1}^n (x_i - \\bar{x})^2}\n",
    "$$\n",
    "\n",
    "And:\n",
    "\n",
    "$$\n",
    "b = \\bar{y} - w\\bar{x}\n",
    "$$\n",
    "\n",
    "where \n",
    "$\\bar{x}$\n",
    "  and \n",
    "$\\bar{y}$\n",
    "​\n",
    "  are the means of $x$ and $y$ values respectively."
   ]
  },
  {
   "attachments": {},
   "cell_type": "markdown",
   "metadata": {},
   "source": [
    "---\n",
    "   **TASK 2.1:** \n",
    "Find an expression for the values of $w$ and $b$ using the data provide and plot the resulting function. You can use the numpy library to compute the mean of the $x$ and $y$ values.\n",
    "\n",
    "Plot the data points and overlay the linear regression line on top of the data.\n",
    "\n",
    "---\n",
    "\n"
   ]
  },
  {
   "cell_type": "code",
   "execution_count": 11,
   "metadata": {},
   "outputs": [],
   "source": [
    "# Calculate the optimal weight and bias terms for the data X_sample, y_sample\n",
    "\n",
    "x_mean = np.mean(X_sample)\n",
    "y_mean = np.mean(y_sample)\n",
    "\n",
    "weight = #YOUR CODE HERE\n",
    "bias = #YOUR CODE HERE\n",
    "\n",
    "print(\"Optimal weight: \", weight)\n",
    "print(\"Optimal bias: \", bias)\n",
    "\n",
    "# Plot the data and the optimal linear regression line\n",
    "# YOUR CODE HERE"
   ]
  },
  {
   "attachments": {},
   "cell_type": "markdown",
   "metadata": {},
   "source": [
    "Hopefully, through this exercise you can see that while this line does capture the rough trend of the data, it is not a very good fit. This is because the data is not linear. If we want to improve our fit, we can, instead of trying to fit a linear function, try to fit a higher degree polynomial function. Although the target function may not be a polynomial either, we can still use a polynomial to approximate it and because with higher degree polynomials we can get more complex curves, we can get a better fit. Let's try to fit a 2nd degree polynomial (Quadratic) and a 4th degree polynomial (Quartic) to the data.\n",
    "\n",
    "In general, a polynomial of degree n has the form:\n",
    "$$\n",
    "f(x) = a_0 + a_1x + a_2x^2 + a_3x^3 + ... + a_nx^n\n",
    "$$\n",
    "where $w_0, w_1, w_2, ..., w_n$ are the coefficients of the polynomial.\n",
    "\n",
    "We can combine these coefficients into a single weight vector $\\mathbf{\\hat{w}} = [w_0, w_1, \\dots, w_n]^T$ (For the linear polynomial above we would have had $\\mathbf{\\hat{w}} = [b, w]^T$). \n",
    "\n",
    "As a trick to help us in our calculation, we can create the matrix $\\mathbf{A} \\in \\mathbb{R}^{m \\times n}$ ($m$ is the # of data points and $n$ is the degree of the fitting polynomial), which is called the Vandermonde matrix. This matrix is defined as: \n",
    "$$\n",
    "\\mathbf{A} = \\begin{bmatrix} \n",
    "1 & x_1 & x_1^2 & \\dots & x_1^n \\\\\n",
    "1 & x_2 & x_2^2 & \\dots & x_2^n \\\\\n",
    "\\vdots & \\vdots & \\vdots & \\ddots & \\vdots \\\\\n",
    "1 & x_m & x_m^2 & \\dots & x_m^n \\\\\n",
    "\\end{bmatrix} \n",
    "$$\n",
    "\n",
    "We define $\\mathbf{A}$ this way so that we can write the polynomial as a matrix multiplication:\n",
    "$$\n",
    "\\mathbf{A}\\mathbf{\\hat{w}} = \\begin{bmatrix}\n",
    "1 & x_1 & x_1^2 & \\dots & x_1^n \\\\\n",
    "1 & x_2 & x_2^2 & \\dots & x_2^n \\\\\n",
    "\\vdots & \\vdots & \\vdots & \\ddots & \\vdots \\\\\n",
    "1 & x_m & x_m^2 & \\dots & x_m^n \\\\\n",
    "\\end{bmatrix} \\begin{bmatrix}\n",
    "w_0 \\\\\n",
    "w_1 \\\\\n",
    "\\vdots \\\\\n",
    "w_n\n",
    "\\end{bmatrix} = \\begin{bmatrix}\n",
    "w_0 + w_1x_1 + w_2x_1^2 + \\dots + w_nx_1^n \\\\\n",
    "w_0 + w_1x_2 + w_2x_2^2 + \\dots + w_nx_2^n \\\\\n",
    "\\vdots \\\\\n",
    "w_0 + w_1x_m + w_2x_m^2 + \\dots + w_nx_m^n \\\\\n",
    "\\end{bmatrix}\n",
    "$$\n",
    "\n",
    "It follows, that the following difference, $\\mathbf{A}\\mathbf{\\hat{w}} - \\mathbf{y}$ has the property the entry $i$ of this vector is the signed difference between the predicted and true value for the $i$'th data point. Our goal is to minimize the squared error of this, or, $E(\\mathbf{\\hat{w}}) = \\| \\mathbf{A}\\mathbf{\\hat{w}} - \\mathbf{y} \\|^2 $. \n",
    "\n",
    "Expanding this out, we get:\n",
    "\n",
    "$$ \n",
    "    E(\\mathbf{\\hat{w}}) = (\\mathbf{A}\\mathbf{\\hat{w}} - \\mathbf{y})^T (\\mathbf{A}\\mathbf{\\hat{w}} - \\mathbf{y}) \n",
    "$$\n",
    "\n",
    "To minimize this error, we'll set its gradient with respect to $\\left( \\mathbf{w} \\right)$ to zero:\n",
    "\n",
    "\n",
    "$$ \n",
    "\\nabla E(\\mathbf{w}) = \\nabla (\\mathbf{A}\\mathbf{w} - \\mathbf{y})^T (\\mathbf{A}\\mathbf{w} - \\mathbf{y}) = 2\\mathbf{A}^T\\mathbf{A}\\mathbf{w} - 2\\mathbf{A}^T\\mathbf{y} = 0\n",
    "$$\n",
    "\n",
    "\n",
    "So we have, \n",
    "$$\n",
    "    2\\mathbf{A}^T\\mathbf{A}\\mathbf{w} - 2\\mathbf{A}^T\\mathbf{y} = 0\n",
    "$$\n",
    "\n",
    "---\n",
    "   **TASK 2.2:** \n",
    "\n",
    "Your task is to write a function `calculate_weights`, which takes in\n",
    "- An $m$ dimensional vector of data points $X$\n",
    "- An $m$ dimensional vector of corresponding values $y$ obtained by sampling from a noisy function\n",
    "- An integer $n$ representing the degree of the polynomial to fit to the data\n",
    "\n",
    "and returns the weight vector $\\mathbf{\\hat{w}}$ that minimizes the squared error.\n",
    "\n",
    "---\n",
    "\n",
    "**Hint**: You can use `np.linalg.inv` to invert a matrix.\n"
   ]
  },
  {
   "cell_type": "code",
   "execution_count": 14,
   "metadata": {},
   "outputs": [],
   "source": [
    "# m dimentional data vector $X$\n",
    "# m dimentional data vector $y$\n",
    "# integer $n$ - degree of polynomial to fit\n",
    "def calculate_weights(X, y, n):\n",
    "    #YOUR CODE HERE\n",
    "\n",
    "    return w\n",
    "    \n",
    "def poly_vector(x, n):\n",
    "    return np.array([x ** i for i in range(n+1)])\n",
    "    \n",
    "def plot_poly_fit(X_sample, y_sample, w):\n",
    "    n = len(w) - 1 # degree of polynomial\n",
    "\n",
    "    # Plot the data and the optimal linear regression line\n",
    "    plt.title(f'{n} degree polynomial')\n",
    "    plt.scatter(X_sample, y_sample, label='Data')\n",
    "    plt.plot(X, y, color=\"blue\", linewidth=0.5, linestyle=\"--\", label=\"sin(x)\")\n",
    "    plt.plot(X, w @ poly_vector(X, n), 'r', label='Model')\n",
    "    plt.xlabel('X')\n",
    "    plt.ylabel('y')\n",
    "    plt.xlim(-3.5, 3.5)\n",
    "    plt.ylim(-2.75, 1.5)\n",
    "    plt.legend()\n",
    "    plt.show()\n",
    "\n",
    "\n",
    "# Test for quadratic polynomial\n",
    "w = calculate_weights(X_sample, y_sample, 2)\n",
    "plot_poly_fit(X_sample, y_sample, w)\n",
    "\n",
    "# Test for quadratic polynomial\n",
    "w = calculate_weights(X_sample, y_sample, 4)\n",
    "plot_poly_fit(X_sample, y_sample, w)\n",
    "\n",
    "# Test for 6th degree polynomial\n",
    "w = calculate_weights(X_sample, y_sample, 6)\n",
    "plot_poly_fit(X_sample, y_sample, w)\n",
    "\n",
    "# Test for 13th degree polynomial\n",
    "w = calculate_weights(X_sample, y_sample, 13)\n",
    "plot_poly_fit(X_sample, y_sample, w)"
   ]
  },
  {
   "attachments": {},
   "cell_type": "markdown",
   "metadata": {},
   "source": [
    "We can see that initially, as we increase the degree of the polynomial, we get a better fit to the data. However, as we continue to increase the polynomial degree even further, the model not only fits the training data but also starts capturing the noise in the data. This phenomenon can be understood better using the concept of the bias-variance trade-off.\n",
    "\n",
    "- Bias: Bias refers to the error due to overly simplistic assumptions in the learning algorithm. In our context, using a low-degree polynomial might be too simple to capture the underlying structure of the data. Such a model will have high bias because it assumes the data can be represented by a simple curve, even when it cannot. As a result, it systematically misrepresents the data, leading to consistent and high error on both the training and test datasets.\n",
    "\n",
    "- Variance: Variance refers to the error due to too much complexity in the learning algorithm. With a high-degree polynomial, our model becomes extremely flexible. Such flexibility allows the model to fit the training data very closely, including its noise and fluctuations. However, this results in a model with high variance, as even slight changes in the training data can lead to significantly different models. These models perform well on the training data but fail to generalize to new, unseen data, leading to high error on the test dataset.\n",
    "\n",
    "- Bias-Variance Trade-off: Increasing the degree decreases bias since the model becomes more flexible and can fit the training data better.\n",
    "However, past a certain point, increasing the degree also increases variance since the model begins to fit the noise in the training data.\n",
    "The bias-variance trade-off is the balance between these two sources of error. Ideally, we want to find the right level of model complexity that captures the underlying structure of the data but doesn't get swayed by its noise. \n",
    "\n",
    "\n",
    "If we sample another set of points from the same distribution, which we will call the test set, we can get a better picture of how well our model generalizes to unseen data. We can visualize the training and test set together to compare them.\n",
    "\n",
    "\n",
    "---\n",
    "   **TASK 2.3:** \n",
    "\n",
    "Write an error function `polynomial_regression_error` which computes the mean squared error between the predicted outputs and the true outputs for any input data. Then use this function to find the training and test errors for each of the models we have trained so far. Plot these errors as a function of the degree of the polynomial.\n",
    "\n",
    "---\n",
    "\n",
    "\n"
   ]
  },
  {
   "cell_type": "code",
   "execution_count": 15,
   "metadata": {},
   "outputs": [],
   "source": [
    "number_testing_points = 15\n",
    "\n",
    "# Sample points from the curve with noise\n",
    "X_sample_testing = np.linspace(-np.pi, np.pi, number_testing_points)\n",
    "y_sample_testing = f(X_sample_testing) + epsilon * np.random.randn(number_testing_points)\n",
    "\n",
    "# Given an inputs:\n",
    "#   X_training_values - a vector of training inputs\n",
    "#   y_training_values - a vector of training outputs\n",
    "#   X_testing_values - a vector of testing inputs\n",
    "#   y_testing_values - a vector of testing outputs\n",
    "#   n - the degree of the polynomial to fit\n",
    "# Return:\n",
    "#   y_predicted_training_error - the training error\n",
    "#   y_predicted_testing_error - the testing error\n",
    "\n",
    "def polynomial_regression_error(X_training_values, y_training_values, X_testing_values, y_testing_values, n):\n",
    "    #YOUR CODE HERE\n",
    "\n",
    "    return y_predicted_training_error, y_predicted_testing_error\n",
    "\n",
    "\n",
    "training_error = []\n",
    "testing_error = []\n",
    "for n in range(1, 20):\n",
    "    y_predicted_training_error, y_predicted_testing_error = polynomial_regression_error(X_sample, y_sample, X_sample_testing, y_sample_testing, n)\n",
    "    training_error.append(y_predicted_training_error)\n",
    "    testing_error.append(y_predicted_testing_error)\n",
    "\n",
    "# Plot the training and testing error\n",
    "#YOUR CODE HERE\n",
    "\n"
   ]
  },
  {
   "attachments": {},
   "cell_type": "markdown",
   "metadata": {},
   "source": [
    "We can now see clearly that as the degree of the polynomial increases, the model fits the training data better and better. However, the model also becomes more complex, and starts to fit the noise in the data as well. The result is that the model starts to overfit the data, and will actually perform worse on the unseen test data. This is a classic example of the bias-variance tradeoff in machine learning and is not unique to polynomial regression.\n",
    "\n",
    "**How do we overcome overfitting?**\n",
    "\n",
    "This is where regularization comes into play. Regularization techniques add a penalty to the cost function to constrain or shrink the model parameters, discouraging overly complex models which can overfit the training data. By adding this penalty, regularization ensures that the model remains somewhat simpler, even if we are using a high-degree polynomial or a complicated neural network. There are different forms of regularization, but the most common are L1 regularization (which tends to produce sparse weight vectors) and L2 regularization (which tends to produce smaller weight vectors). In polynomial regression, L2 regularization (also known as Ridge regression) is commonly used.\n",
    "\n",
    "\n",
    "So what does this mean for our polynomial regression model? We can add a regularization term to the cost function:\n",
    "$$\n",
    "    E(\\mathbf{w}) = \\| \\mathbf{A}\\mathbf{w} - \\mathbf{y} \\|^2 + \\lambda \\| \\mathbf{w} \\|^2\n",
    "$$\n",
    "\n",
    "Differentiating this with respect to $\\left( \\mathbf{w} \\right)$ gives:\n",
    "$$\n",
    "    \\nabla E(\\mathbf{w}) = 2\\mathbf{A}^T\\mathbf{A}\\mathbf{w} - 2\\mathbf{A}^T\\mathbf{y} + 2\\lambda\\mathbf{w}\n",
    "$$\n",
    "\n",
    "We can see that with greater $\\lambda$, the model will be penalized more for having large weights. This will encourage the model to be simpler, and will reduce overfitting. \n",
    "\n",
    "---\n",
    "   **TASK 2.4:** \n",
    "Your task is to implement polynomial regression with L2 regularization. To do this you will need to write a function `calculate_weights_regularized` that takes in the training data, the test data, the degree of the polynomial, and the regularization parameter $\\lambda$, and returns the polynomial coefficients $\\mathbf{w}$.\n",
    "\n",
    "---"
   ]
  },
  {
   "cell_type": "code",
   "execution_count": 16,
   "metadata": {},
   "outputs": [],
   "source": [
    "# Inputs :\n",
    "# - X_sample: A vector of m data points\n",
    "# - y_sample: A vector of m data points, obtained by evaluating the function f at each x in X with some added noise\n",
    "# - lambda: A regularization parameter\n",
    "# - n: The degree of the polynomial to be used in the regression\n",
    "def calculate_weights_regularized(X_sample, y_sample, n, lam):\n",
    "    #YOUR CODE HERE\n",
    "\n",
    "    return w\n",
    "\n",
    "# Test for 12 degree, and lambda = 0.1\n",
    "w = calculate_weights_regularized(X_sample, y_sample, 12, 0)\n",
    "plot_poly_fit(X_sample, y_sample, w)\n",
    "\n",
    "# Test for 12 degree, and lambda = 1\n",
    "w = calculate_weights_regularized(X_sample, y_sample, 12, 1)\n",
    "plot_poly_fit(X_sample, y_sample, w)\n",
    "\n",
    "# Test for 12 degree, and lambda = 5\n",
    "w = calculate_weights_regularized(X_sample, y_sample, 12, 5)\n",
    "plot_poly_fit(X_sample, y_sample, w)\n"
   ]
  },
  {
   "attachments": {},
   "cell_type": "markdown",
   "metadata": {},
   "source": [
    "\n",
    "---\n",
    "   **TASK 2.5:** \n",
    "We can see that with a larger regularization paramater $\\lambda$ we get a smoother fit as the coefficients are penalized more for being large. Write a function `polynomial_regression_error_regularized` that computes the training and test error as a function of $\\lambda$ and plot the result for a 12 degree polynomial fit to see how the regularization parameter affects the generalizability of the model.\n",
    "___"
   ]
  },
  {
   "cell_type": "code",
   "execution_count": 17,
   "metadata": {},
   "outputs": [],
   "source": [
    "# Given an inputs:\n",
    "#   X_training_values - a vector of training inputs\n",
    "#   y_training_values - a vector of training outputs\n",
    "#   X_testing_values - a vector of testing inputs\n",
    "#   y_testing_values - a vector of testing outputs\n",
    "#   n - the degree of the polynomial to fit\n",
    "#   lam - the regularization parameter\n",
    "# Return:\n",
    "#   y_predicted_training_error - the training error\n",
    "#   y_predicted_testing_error - the testing error\n",
    "def polynomial_regression_error_regularized(X_training_values, y_training_values, X_testing_values, y_testing_values, n, lam):\n",
    "    #YOUR CODE HERE\n",
    "\n",
    "    return y_predicted_training_error, y_predicted_testing_error\n",
    "\n",
    "training_error = []\n",
    "testing_error = []\n",
    "lam_values = [0, 0.01, 0.1, 1, 5, 10]\n",
    "for lam in lam_values:\n",
    "    y_predicted_training_error, y_predicted_testing_error = polynomial_regression_error_regularized(X_sample, y_sample, X_sample_testing, y_sample_testing, 12, lam)\n",
    "    training_error.append(y_predicted_training_error)\n",
    "    testing_error.append(y_predicted_testing_error)\n",
    "\n",
    "# Plot the training and testing error\n",
    "#YOUR CODE HERE"
   ]
  },
  {
   "attachments": {},
   "cell_type": "markdown",
   "metadata": {},
   "source": [
    "We see that with larger values for the regularization paramater $\\lambda$, the testing error decreases while the training error increases. This is because the model is overfitting the training data, and the regularization term is penalizing the model for having large coefficients. \n"
   ]
  }
 ],
 "metadata": {
  "kernelspec": {
   "display_name": "Python 3",
   "language": "python",
   "name": "python3"
  },
  "language_info": {
   "codemirror_mode": {
    "name": "ipython",
    "version": 3
   },
   "file_extension": ".py",
   "mimetype": "text/x-python",
   "name": "python",
   "nbconvert_exporter": "python",
   "pygments_lexer": "ipython3",
   "version": "3.9.9"
  }
 },
 "nbformat": 4,
 "nbformat_minor": 2
}
