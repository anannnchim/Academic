{
 "cells": [
  {
   "cell_type": "markdown",
   "id": "31fa11a2-848a-4e6d-bbfa-161d08a43e8f",
   "metadata": {},
   "source": [
    "# This is R."
   ]
  },
  {
   "cell_type": "code",
   "execution_count": null,
   "id": "eb05dbd2-6224-4cac-b206-c9b052b6ca8d",
   "metadata": {},
   "outputs": [],
   "source": [
    "# Load necessary libraries\n",
    "library(ggplot2)\n",
    "\n",
    "# Set the parameters\n",
    "mean_price <- 10   # Mean price\n",
    "sd_price <- 2     # Standard deviation\n",
    "n <- 1000         # Number of observations\n",
    "\n",
    "# Generate a random walk based on given mean and standard deviation\n",
    "set.seed(42) # for reproducibility\n",
    "price <- cumsum(rnorm(n, mean = mean_price, sd = sd_price))\n",
    "\n",
    "# Create a data frame for plotting\n",
    "price_data <- data.frame(\n",
    "  Time = 1:n,\n",
    "  Price = price\n",
    ")\n",
    "\n",
    "# Plot the price series\n",
    "ggplot(price_data, aes(x = Time, y = Price)) +\n",
    "  geom_line() +\n",
    "  labs(title = \"Randomly Generated Price Series\",\n",
    "       x = \"Time\",\n",
    "       y = \"Price\") +\n",
    "  theme_minimal()\n"
   ]
  },
  {
   "cell_type": "code",
   "execution_count": null,
   "id": "8f86da34-38a3-4d87-931d-bccb87072e51",
   "metadata": {},
   "outputs": [],
   "source": []
  },
  {
   "cell_type": "code",
   "execution_count": null,
   "id": "c9e5b1e0-5e95-42ff-9f18-a6772c50c8aa",
   "metadata": {},
   "outputs": [],
   "source": []
  }
 ],
 "metadata": {
  "kernelspec": {
   "display_name": "R",
   "language": "R",
   "name": "ir"
  },
  "language_info": {
   "codemirror_mode": {
    "name": "ipython",
    "version": 3
   },
   "file_extension": ".py",
   "mimetype": "text/x-python",
   "name": "python",
   "nbconvert_exporter": "python",
   "pygments_lexer": "ipython3",
   "version": "3.9.12"
  }
 },
 "nbformat": 4,
 "nbformat_minor": 5
}
