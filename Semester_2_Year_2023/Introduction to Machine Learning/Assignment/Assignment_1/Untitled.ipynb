{
 "cells": [
  {
   "cell_type": "code",
   "execution_count": null,
   "id": "1a6f1bf4-0437-44f0-a6d5-7d2e80a76107",
   "metadata": {},
   "outputs": [],
   "source": [
    "# Load required libraries\n",
    "library(ggplot2)\n",
    "\n",
    "# Set parameters\n",
    "mean_return <- 0.0005 # Mean daily return\n",
    "std_dev <- 0.02 # Standard deviation of daily return\n",
    "initial_price <- 100 # Initial stock price\n",
    "n_days <- 252 # Number of trading days in a year\n",
    "\n",
    "# Generate random daily returns\n",
    "set.seed(42) # For reproducibility\n",
    "daily_returns <- rnorm(n_days, mean = mean_return, sd = std_dev)\n",
    "\n",
    "# Calculate cumulative returns\n",
    "cumulative_returns <- cumprod(1 + daily_returns)\n",
    "\n",
    "# Calculate stock price by applying cumulative returns to initial price\n",
    "stock_price <- initial_price * cumulative_returns\n",
    "\n",
    "# Create a data frame for plotting\n",
    "stock_data <- data.frame(\n",
    "  Day = 1:n_days,\n",
    "  Price = stock_price\n",
    ")\n",
    "\n",
    "# Plot the stock price\n",
    "ggplot(stock_data, aes(x = Day, y = Price)) +\n",
    "  geom_line() +\n",
    "  labs(title = \"Simulated Stock Price\",\n",
    "       x = \"Day\",\n",
    "       y = \"Price\")\n"
   ]
  },
  {
   "cell_type": "code",
   "execution_count": null,
   "id": "0e0c2f03-3c20-496f-8c97-0598ec0d329d",
   "metadata": {},
   "outputs": [],
   "source": [
    "a = c(1,2)"
   ]
  },
  {
   "cell_type": "code",
   "execution_count": null,
   "id": "4457a3ca-b2f0-498a-b7da-b51f1d7e8755",
   "metadata": {},
   "outputs": [],
   "source": [
    "print(a)"
   ]
  },
  {
   "cell_type": "code",
   "execution_count": null,
   "id": "da381145-3aa6-49c6-b4f9-63896077c8b2",
   "metadata": {},
   "outputs": [],
   "source": []
  }
 ],
 "metadata": {
  "kernelspec": {
   "display_name": "R",
   "language": "R",
   "name": "ir"
  },
  "language_info": {
   "name": ""
  }
 },
 "nbformat": 4,
 "nbformat_minor": 5
}
