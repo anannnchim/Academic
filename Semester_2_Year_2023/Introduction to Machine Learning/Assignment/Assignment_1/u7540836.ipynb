{
 "cells": [
  {
   "cell_type": "markdown",
   "metadata": {
    "pycharm": {
     "name": "#%% md\n"
    },
    "tags": []
   },
   "source": [
    "## COMP3670 Programming Assignment 1 - Linear Algebra\n",
    "---\n",
    "\n",
    "**Enter Your Student ID:** u7540836\n",
    "\n",
    "**Your Name:** Nanthawat Anancharoenpakorn\n",
    "    \n",
    "**Deadline:** \n",
    "\n",
    "**Submit:** Write your answers in this file, and submit a single Jupyter Notebook file (.ipynb) on Wattle. Rename this file with your student number as 'uXXXXXXX.ipynb'.\n",
    "\n",
    "**Enter Discussion Partner IDs Below:**\n",
    "You could add more IDs with the same markdown format above.\n",
    "\n",
    "\n",
    "\n",
    "---\n",
    "**Marking distribution for the assignment**\n",
    "\n",
    "- Task1 = 10%\n",
    "- Task2 = 50%\n",
    "- Task3 = 40%\n",
    "\n",
    "**You will get full marks if your program passes all the tests; you will get partial marks if it passes some cases. There is no process marks (we do not look into your codes).**"
   ]
  },
  {
   "cell_type": "markdown",
   "metadata": {
    "pycharm": {
     "name": "#%% md\n"
    }
   },
   "source": [
    "## Task 0: Introduction\n",
    "---\n",
    "\n",
    "**NOTE:** *This part of the first assignment is by necessity somewhat tedious as its primary purpose is to introduce syntax, how to access and understand the Numpy documentation and some very basic concepts. If you are already familiar with Numpy, you can just read the **TASK** headings and complete the questions without worrying about all the additional information. This is designed for people who have never seen Numpy before, so it's a very easy 1st year style introduction to just introduce syntax.*\n",
    "\n",
    "*As this is a third year subject, it is assumed you already know to to program well (but may be unfamiliar with Python and Numpy).*\n",
    "\n",
    "---\n",
    "\n",
    "Arguably the most fundamental tool needed to engage with machine learning in Python is Numpy *(np)*. To include Numpy in any project, simply type the following line at the top of your python file:"
   ]
  },
  {
   "cell_type": "code",
   "execution_count": 1,
   "metadata": {
    "pycharm": {
     "name": "#%%\n"
    }
   },
   "outputs": [
    {
     "name": "stdout",
     "output_type": "stream",
     "text": [
      "Requirement already satisfied: sympy in /Users/nanthawat/opt/anaconda3/lib/python3.9/site-packages (1.11.1)\n",
      "Requirement already satisfied: mpmath>=0.19 in /Users/nanthawat/opt/anaconda3/lib/python3.9/site-packages (from sympy) (1.2.1)\n"
     ]
    }
   ],
   "source": [
    "# numpy\n",
    "import numpy as np\n",
    "\n",
    "!pip install sympy\n",
    "import sympy as sp\n",
    "\n",
    "# matplotlib\n",
    "import matplotlib.pyplot as plt\n",
    "%matplotlib inline"
   ]
  },
  {
   "cell_type": "markdown",
   "metadata": {
    "pycharm": {
     "name": "#%% md\n"
    }
   },
   "source": [
    "A Jupyter Notebook is divided into cells, each of which works like a Python module or Latex file. When a cell is run, any cells that follow it will have access to its results. Running the above cell will give all following cells access to the Numpy library.\n",
    "\n",
    "-----------\n",
    "\n",
    "   **TASK 0.1:** To run the above cell, select it by clicking on it, hold **shift** and press **return**. If you have succeeded, then the cell will print \"Done\" just above.\n",
    "\n",
    "\n",
    "-----------\n",
    "\n",
    "Numpy is a library of common mathematical data structures and algorithms used in machine learning. For example:\n",
    "\n",
    "- It allows you to declare vectors and matrices, with all the associated mathematical operations like matrix vector products, matrix addition / subtraction.\n",
    "- It provides convenient, efficient implementations of algorithms to solve matrix equations, find the inverse of a matrix or perform Eigen decomposition. The implementation of these algorithms is compiled from C code, making Numpy much faster than programming these algorithms yourself in Python.\n",
    "\n",
    "You'll need to know Numpy inside and out. We'll start by getting you familiar with the easy to access online documentation and performing a few basic operations.\n",
    "\n",
    "Below I have declared the matrices: \n",
    "\n",
    "$$A = \n",
    "\\begin{bmatrix}\n",
    "2&3\\\\\n",
    "0&1\\\\\n",
    "\\end{bmatrix}\n",
    "\\\\\n",
    "x = \n",
    "\\begin{bmatrix}\n",
    "1\\\\\n",
    "3\\\\\n",
    "\\end{bmatrix}\n",
    "$$. \n",
    "\n",
    "---\n",
    "**TASK 0.2:** Run the cell below and observe what it prints.\n",
    "\n",
    "\n",
    "---\n",
    "(If it throws an error, you have the wrong version of python installed. This entire course will use Python 3, not Python 2)\n",
    "\n"
   ]
  },
  {
   "cell_type": "code",
   "execution_count": 2,
   "metadata": {
    "pycharm": {
     "name": "#%%\n"
    }
   },
   "outputs": [
    {
     "name": "stdout",
     "output_type": "stream",
     "text": [
      "\n",
      "Matrix Multiplication\n",
      "[[11]\n",
      " [ 3]]\n"
     ]
    }
   ],
   "source": [
    "A = np.array([[2, 3], [0, 1]])\n",
    "x = np.array([[1], [3]])\n",
    "\n",
    "#Matrix Multiplication Example\n",
    "b = A @ x\n",
    "print('\\nMatrix Multiplication')\n",
    "print(b)"
   ]
  },
  {
   "cell_type": "markdown",
   "metadata": {
    "pycharm": {
     "name": "#%% md\n"
    }
   },
   "source": [
    "The above code illustrates how to perform matrix multiplication. Memorise it. Below are some other basic operations you'll likely need over the coming semester:"
   ]
  },
  {
   "cell_type": "code",
   "execution_count": 3,
   "metadata": {
    "pycharm": {
     "name": "#%%\n"
    }
   },
   "outputs": [
    {
     "name": "stdout",
     "output_type": "stream",
     "text": [
      "\n",
      "Matrix A\n",
      "[[2 3]\n",
      " [0 1]]\n",
      "\n",
      "Matrix x\n",
      "[[1]\n",
      " [3]]\n",
      "\n",
      "Matrix Addition\n",
      "[[3 4]\n",
      " [3 4]]\n",
      "\n",
      "Elementwise Matrix Multiplication\n",
      "[[2 3]\n",
      " [0 3]]\n",
      "\n",
      "Single Element Extraction\n",
      "2\n",
      "3\n",
      "\n",
      "Column Extraction\n",
      "[2 0]\n",
      "[3 1]\n",
      "\n",
      "Row Extraction\n",
      "[2 3]\n",
      "\n",
      "Transpose\n",
      "[[2 0]\n",
      " [3 1]]\n"
     ]
    }
   ],
   "source": [
    "# Data\n",
    "print(\"\\nMatrix A\")\n",
    "print(A)\n",
    "print(\"\\nMatrix x\")\n",
    "print(x)\n",
    "\n",
    "\n",
    "#Matrix Addition Example\n",
    "b = A + x\n",
    "print('\\nMatrix Addition')\n",
    "print(b)\n",
    "\n",
    "#Elementwise Multiplication Example\n",
    "b = A * x\n",
    "print('\\nElementwise Matrix Multiplication')\n",
    "print(b)\n",
    "\n",
    "#Extract a single element of a matrix:\n",
    "print('\\nSingle Element Extraction')\n",
    "b = A[0, 0]\n",
    "print(b)\n",
    "print(A[0,1]) # A 0,1\n",
    "#Extract an entire column of a matrix:\n",
    "print('\\nColumn Extraction')\n",
    "b = A[:, 0]\n",
    "print(b)\n",
    "print(A[:,1])\n",
    "\n",
    "#Extract an entire row of a matrix:\n",
    "print('\\nRow Extraction')\n",
    "b = A[0, :]\n",
    "print(b)\n",
    "\n",
    "#Transpose of a matrix:\n",
    "print('\\nTranspose')\n",
    "A_Transpose = A.T\n",
    "print(A_Transpose)"
   ]
  },
  {
   "cell_type": "markdown",
   "metadata": {
    "pycharm": {
     "name": "#%% md\n"
    }
   },
   "source": [
    "## Task1: Solving a system of linear equations\n",
    "---\n",
    "\n",
    "A vital part of linear algebra is to know how to solve a system of linear equations. For e.g. \n",
    "\n",
    "$$a_{11}x_1+a_{12}x_2 \\dots a_{1d}x_d=b_1$$\n",
    "$$a_{21}x_1+a_{22}x_2 \\dots a_{2d}x_d=b_2$$\n",
    "$$\\vdots$$\n",
    "$$a_{n1}x_1+a_{n2}x_2 \\dots a_{nd}x_d=b_n$$\n",
    "\n",
    "The above system of linear equations can also be written down in a compact matrix form as follows:\n",
    "\n",
    "$$AX = B$$\n",
    "\n",
    "where,\n",
    "$$A = \\begin{bmatrix}\n",
    "a_{11} & \\dots & a_{1d}\\\\\n",
    "\\vdots & \\ddots & \\vdots \\\\\n",
    "a_{n1} & \\dots & a_{nd}\n",
    "\\end{bmatrix}, \\quad\n",
    "B = \\begin{bmatrix}\n",
    "b_1 \\\\ \\vdots \\\\ b_n\n",
    "\\end{bmatrix}, \\quad\n",
    "X = \\begin{bmatrix}\n",
    "x_1 \\\\ \\vdots \\\\ x_d\n",
    "\\end{bmatrix}.\n",
    "$$"
   ]
  },
  {
   "cell_type": "markdown",
   "metadata": {
    "pycharm": {
     "name": "#%% md\n"
    }
   },
   "source": [
    "---\n",
    "**Task 1.1**: Use numpy's solve function to compute X\n",
    "\n",
    "---\n",
    "**HINT**: https://docs.scipy.org/doc/numpy/reference/generated/numpy.linalg.solve.html"
   ]
  },
  {
   "cell_type": "code",
   "execution_count": 4,
   "metadata": {},
   "outputs": [],
   "source": [
    "# Task 1.1 Model\n",
    "\n",
    "a = np.array([[1,2],[3,5]])\n",
    "b = np.array([1,2])\n",
    "x = np.linalg.solve(a,b)\n"
   ]
  },
  {
   "cell_type": "code",
   "execution_count": 5,
   "metadata": {
    "pycharm": {
     "name": "#%%\n"
    }
   },
   "outputs": [
    {
     "name": "stdout",
     "output_type": "stream",
     "text": [
      "[[0.03185596]\n",
      " [0.10526316]\n",
      " [0.05193906]]\n"
     ]
    }
   ],
   "source": [
    "# define A,B\n",
    "A = np.array([[10, 14, 4], [15, 2, 6], [7, 8, 18]])\n",
    "B = np.array([[2], [1], [2]])\n",
    "\n",
    "def solve_with_numpy(A,B):\n",
    "    # TODO: solve the linear system\n",
    "    X = np.linalg.solve(A,B)\n",
    "    return(X)\n",
    "\n",
    "# show solution\n",
    "X = solve_with_numpy(A,B)\n",
    "print (X)"
   ]
  },
  {
   "cell_type": "markdown",
   "metadata": {
    "pycharm": {
     "name": "#%% md\n"
    }
   },
   "source": [
    "A more hands on way for solving for X, involves computing first computing the inverse of the matrix $A$\n",
    "\n",
    "---\n",
    "**Task 1.2**: Use numpy's inbuilt method for computing the inverse of the matrix $A$\n",
    "\n",
    "---\n",
    "\n",
    "**HINT**: https://docs.scipy.org/doc/numpy/reference/generated/numpy.linalg.inv.html"
   ]
  },
  {
   "cell_type": "code",
   "execution_count": 6,
   "metadata": {
    "pycharm": {
     "name": "#%%\n"
    }
   },
   "outputs": [
    {
     "name": "stdout",
     "output_type": "stream",
     "text": [
      "[[ 0.30769231 -0.07692308]\n",
      " [-1.15384615  0.53846154]]\n"
     ]
    }
   ],
   "source": [
    "A = np.array([[7, 1], [15, 4]])\n",
    "\n",
    "def find_inverse(A):\n",
    "    \n",
    "    # TODO: find the inverse of the matrix A\n",
    "    return np.linalg.inv(A)\n",
    "    \n",
    "A_inv = find_inverse(A)\n",
    "print(A_inv)"
   ]
  },
  {
   "cell_type": "markdown",
   "metadata": {
    "pycharm": {
     "name": "#%% md\n"
    }
   },
   "source": [
    "---\n",
    "**Task 1.3**: Use the inverse of matrix $A$, to solve for $X$. **Note that you are only allowed to use the functions in 1.1 and 1.2. No other library functions are allowed**.\n",
    "\n",
    "---"
   ]
  },
  {
   "cell_type": "code",
   "execution_count": 7,
   "metadata": {},
   "outputs": [],
   "source": [
    "# Task 1.3 Model \n",
    "# find  X from AX = B by (A_inverse @  B = X)"
   ]
  },
  {
   "cell_type": "code",
   "execution_count": 8,
   "metadata": {
    "pycharm": {
     "name": "#%%\n"
    }
   },
   "outputs": [
    {
     "name": "stdout",
     "output_type": "stream",
     "text": [
      "[[ 3.28571429]\n",
      " [-0.14285714]]\n"
     ]
    }
   ],
   "source": [
    "A = np.array([[5, 3], [2, 11]])\n",
    "B = np.array([[16], [5]])\n",
    "\n",
    "def solve_with_prev_tasks(A, B):\n",
    "    # TODO: solve the linear system using functions you have written\n",
    "    X = find_inverse(A) @ B\n",
    "    return X\n",
    "\n",
    "X = solve_with_prev_tasks(A, B)\n",
    "print(X)"
   ]
  },
  {
   "cell_type": "markdown",
   "metadata": {
    "pycharm": {
     "name": "#%% md\n"
    }
   },
   "source": [
    "But what if $A$ is not a square matrix?\n",
    "\n",
    "---\n",
    "**Task 1.4**: Compute the Moore-Penrose pseudo inverse for matrix $A$ and **use it to solve for $x$**. **Note that, you must not directly use `np.linalg.pinv` for computing the pseudo-inverse**.\n",
    "\n",
    "---\n",
    "\n"
   ]
  },
  {
   "cell_type": "code",
   "execution_count": 9,
   "metadata": {},
   "outputs": [],
   "source": [
    "# A @ X_hat = b where X_hat = A_+ @ B"
   ]
  },
  {
   "cell_type": "code",
   "execution_count": 10,
   "metadata": {
    "pycharm": {
     "name": "#%%\n"
    }
   },
   "outputs": [
    {
     "name": "stdout",
     "output_type": "stream",
     "text": [
      "[[0.97187421]\n",
      " [0.09046455]]\n"
     ]
    }
   ],
   "source": [
    "A = np.array([[15, 1], [5, 10], [8, 2], [11, 19]])\n",
    "B = np.array([[18], [15], [2], [8]])\n",
    "\n",
    "def pseudo_inverse(A):\n",
    "    # Compute the pseudo-inverse of a matrix\n",
    "    pseudo_inv = np.linalg.inv(A.T @ A) @ A.T\n",
    "    return pseudo_inv\n",
    "\n",
    "def solve_with_pseudo_inverse(A, B):\n",
    "    A_pseudo = pseudo_inverse(A)\n",
    "    # Solve for x using pseudo-inverse method\n",
    "    X = A_pseudo @ B\n",
    "    return X \n",
    "\n",
    "\n",
    "X = solve_with_pseudo_inverse(A, B)\n",
    "print(X)"
   ]
  },
  {
   "cell_type": "markdown",
   "metadata": {
    "pycharm": {
     "name": "#%% md\n"
    }
   },
   "source": [
    "## Task 2: Solving a system of linear equations with Gaussian elimination"
   ]
  },
  {
   "cell_type": "markdown",
   "metadata": {
    "pycharm": {
     "name": "#%% md\n"
    }
   },
   "source": [
    "In the last task, we used numpy's inbulit functions to solve a system of linear equations. Lets do it without using these functions!\n",
    "\n",
    "---\n",
    "**Task 2.1**:  Complete the following gaussian elimnation function to compute the **reduced row-echelon form** of matrix $A$. You must implement the gaussian elimination algorithm yourself, not merely call someone else's library function. You **MUST NOT** copy codes from any source. Your function needs to work under **different shapes** of matrix. Negative zero is a result of the floating-point number standard. If you have some -0s instead of 0s, that should be fine.\n",
    "\n",
    "---"
   ]
  },
  {
   "cell_type": "code",
   "execution_count": 131,
   "metadata": {
    "pycharm": {
     "name": "#%%\n"
    }
   },
   "outputs": [],
   "source": [
    "def gaussian_elim(X):\n",
    "    # Convert the input matrix to float64\n",
    "    A = np.array(X, dtype=np.float64)\n",
    "    \n",
    "    rows, cols = A.shape\n",
    "    for c in range(cols):\n",
    "        # Find the pivot row\n",
    "        pivot_row = None\n",
    "        for r in range(c, rows):\n",
    "            if A[r, c] != 0:\n",
    "                pivot_row = r\n",
    "                break\n",
    "\n",
    "        # If no pivot found, continue to next column\n",
    "        if pivot_row is None:\n",
    "            continue\n",
    "\n",
    "        # Swap pivot row with current row\n",
    "        A[[c, pivot_row]] = A[[pivot_row, c]]\n",
    "\n",
    "        # Normalize pivot row\n",
    "        A[c] = A[c] / A[c, c]\n",
    "\n",
    "        # Eliminate other rows\n",
    "        for r in range(rows):\n",
    "            if r != c:\n",
    "                A[r] = A[r] - A[r, c] * A[c]\n",
    "\n",
    "    # Handle negative zeros\n",
    "    A[A == -0] = 0\n",
    "\n",
    "    return A"
   ]
  },
  {
   "cell_type": "code",
   "execution_count": 132,
   "metadata": {
    "pycharm": {
     "name": "#%%\n"
    }
   },
   "outputs": [
    {
     "name": "stdout",
     "output_type": "stream",
     "text": [
      "[[1. 0. 0. 0. 0. 0. 0. 0. 0. 0.]\n",
      " [0. 1. 0. 0. 0. 0. 0. 0. 0. 0.]\n",
      " [0. 0. 1. 0. 0. 0. 0. 0. 0. 0.]\n",
      " [0. 0. 0. 1. 0. 0. 0. 0. 0. 0.]\n",
      " [0. 0. 0. 0. 1. 0. 0. 0. 0. 0.]\n",
      " [0. 0. 0. 0. 0. 1. 0. 0. 0. 0.]\n",
      " [0. 0. 0. 0. 0. 0. 1. 0. 0. 0.]\n",
      " [0. 0. 0. 0. 0. 0. 0. 1. 0. 0.]\n",
      " [0. 0. 0. 0. 0. 0. 0. 0. 1. 0.]\n",
      " [0. 0. 0. 0. 0. 0. 0. 0. 0. 1.]]\n"
     ]
    }
   ],
   "source": [
    "A = np.array([[18, 18, 14, 15, 14, 19,  8,  7,  2, 11],\n",
    "               [ 3,  7,  8,  8,  2,  2,  8, 17,  6,  8],\n",
    "               [ 2,  8,  6,  4, 11, 10, 15, 11, 12,  3],\n",
    "               [ 9,  4, 17,  6,  6, 12, 13,  0, 12,  2],\n",
    "               [ 0,  3, 18,  0, 13,  6,  8, 13, 16, 15],\n",
    "               [15, 16, 13,  9,  4, 17, 11,  0,  5, 18],\n",
    "               [10,  4,  6, 12,  6, 18, 17,  7,  5,  6],\n",
    "               [ 3, 12,  2,  4, 16,  1, 17,  8, 10,  2],\n",
    "               [ 7,  8, 11,  4, 12, 14, 18, 14,  9, 16],\n",
    "               [18, 13,  3, 19, 16,  9,  6,  8,  2, 15]])\n",
    "\n",
    "print(gaussian_elim(A))\n",
    "\n",
    "# The result should be an identity matrix"
   ]
  },
  {
   "cell_type": "code",
   "execution_count": 133,
   "metadata": {
    "pycharm": {
     "name": "#%%\n"
    }
   },
   "outputs": [
    {
     "name": "stdout",
     "output_type": "stream",
     "text": [
      "[[  1.           0.           0.           0.          -2.77442593\n",
      "   20.86492571  -0.07248987   7.64520486]\n",
      " [  0.           1.           0.           0.           3.44146781\n",
      "  -21.02183701   1.11661414  -7.36402521]\n",
      " [  0.           0.           1.           0.           0.48694282\n",
      "   -2.83948672  -0.13552454  -0.68505178]\n",
      " [  0.           0.           0.           1.          -1.26947321\n",
      "   13.49369653  -0.09004953   4.45677623]]\n"
     ]
    }
   ],
   "source": [
    "B = np.array([[ 5,  3, 14,  1,  2, 15,  1, 11],\n",
    "               [ 3, 13,  5, 18, 16, 18, 12,  4],\n",
    "               [ 1,  9, 12, 15, 15,  0,  7,  0],\n",
    "               [18, 17,  5,  0, 11,  4, 17,  9]])\n",
    "\n",
    "print(gaussian_elim(B))\n",
    "# The result should look like\n",
    "# [[  1.           0.           0.           0.          -2.77442593 20.86492571  -0.07248987   7.64520486]\n",
    "#  [  0.           1.           0.           0.           3.44146781 -21.02183701   1.11661414  -7.36402521]\n",
    "#  [  0.           0.           1.           0.           0.48694282 -2.83948672  -0.13552454  -0.68505178]\n",
    "#  [  0.           0.           0.           1.          -1.26947321 13.49369653  -0.09004953   4.45677623]]"
   ]
  },
  {
   "cell_type": "code",
   "execution_count": 134,
   "metadata": {
    "pycharm": {
     "name": "#%%\n"
    }
   },
   "outputs": [
    {
     "name": "stdout",
     "output_type": "stream",
     "text": [
      "[[1. 0. 0.]\n",
      " [0. 1. 0.]\n",
      " [0. 0. 1.]\n",
      " [0. 0. 0.]\n",
      " [0. 0. 0.]\n",
      " [0. 0. 0.]\n",
      " [0. 0. 0.]]\n"
     ]
    }
   ],
   "source": [
    "C = np.array([[ 3, 12, 17],\n",
    "               [14, 19,  8],\n",
    "               [ 1, 12,  7],\n",
    "               [10, 17, 11],\n",
    "               [ 6,  0, 12],\n",
    "               [16,  3, 15],\n",
    "               [16, 19, 18]])\n",
    "\n",
    "print(gaussian_elim(C))\n",
    "# The result should look like\n",
    "# [[1. 0. 0.]\n",
    "#  [0. 1. 0.]\n",
    "#  [0. 0. 1.]\n",
    "#  [0. 0. 0.]\n",
    "#  [0. 0. 0.]\n",
    "#  [0. 0. 0.]\n",
    "#  [0. 0. 0.]]"
   ]
  },
  {
   "cell_type": "markdown",
   "metadata": {
    "pycharm": {
     "name": "#%% md\n"
    }
   },
   "source": [
    "Make sure you pass the following test. Note that, passing the test set does not guarantee you with full mark. We will use different cases when testing your implementation."
   ]
  },
  {
   "cell_type": "code",
   "execution_count": 135,
   "metadata": {
    "pycharm": {
     "name": "#%%\n"
    }
   },
   "outputs": [
    {
     "data": {
      "text/plain": [
       "True"
      ]
     },
     "execution_count": 135,
     "metadata": {},
     "output_type": "execute_result"
    }
   ],
   "source": [
    "# test your gaussian_elim function\n",
    "def test_gaussian_elim():\n",
    "    for i in range(100):\n",
    "        m, n = np.random.randint(low=5, high=10, size=2)\n",
    "        a = np.random.randn(m, n)\n",
    "        sol1 = gaussian_elim(a)\n",
    "        sol2 = np.array(sp.Matrix(a).rref()[0])\n",
    "        if np.sum((sol1 - sol2) ** 2) > 1e-6:\n",
    "            print(a, \"\\n\")\n",
    "            print(gaussian_elim(a), \"\\n\")\n",
    "            print(np.array(sp.Matrix(a).rref()[0]), \"\\n\")\n",
    "            return False\n",
    "    test_cases = [np.array([[2, 0, 1, 1],\n",
    "                            [2, 0, 1, 1],\n",
    "                            [0, 0, 0, 0],\n",
    "                            [1, 1, 1, 0]], dtype=np.float64),\n",
    "                  np.array([[1, 2, 3],\n",
    "                            [4, 5, 6],\n",
    "                            [7, 8, 9]], dtype=np.float64),\n",
    "                  ]\n",
    "    for test in test_cases:\n",
    "        sol1 = gaussian_elim(test)\n",
    "        sol2 = np.array(sp.Matrix(test).rref()[0])\n",
    "        if np.sum((sol1 - sol2) ** 2) > 1e-6:\n",
    "            print(test, \"\\n\")\n",
    "            print(gaussian_elim(test), \"\\n\")\n",
    "            print(np.array(sp.Matrix(test).rref()[0]), \"\\n\")\n",
    "            return False\n",
    "    return True\n",
    "test_gaussian_elim()"
   ]
  },
  {
   "cell_type": "markdown",
   "metadata": {
    "pycharm": {
     "name": "#%% md\n"
    }
   },
   "source": [
    "---\n",
    "**Task 2.2**: A system of linear equations is called homogeneous if the right hand side is the zero vector. Sometimes there will be only trivial solution, namely the zero vector. An example of this matrix is:\n",
    "$$2x_1+4x_2 =0$$\n",
    "$$2x_1+5x_2 =0$$\n",
    "Sometimes there will be non-trivial solutions, e.g.,\n",
    "$$2x_1+4x_2 =0$$\n",
    "$$1x_1+2x_2 =0$$\n",
    "The solution can be $x_1 =-2$, $x_2 =1$.\n",
    " \n",
    "$A=\\big(\\begin{smallmatrix}\n",
    "  2 & 4\\\\\n",
    "  1 & 2\n",
    "\\end{smallmatrix}\\big)$ is called coefficient matrix.\n",
    "Your task is solving a homogeneous system of linear equations based on its reduced row-echelon form, i.e., the output of your *gaussian_elim* function in Task 2.1. You **MUST NOT** revoke any numpy inbuilt functions you used in Task 1. Your function needs to work under **different shapes** of $A$. \n",
    "\n",
    "The *solve_homogeneous* function should be according to the following specifications:\n",
    "* Take as input the coefficient matrix $A$. \n",
    "* Return:\n",
    "    - 0 if it only has trivial solution. Type: int.\n",
    "    - otherwise, return any two different non-trivial solutions. Type: tuple((np.ndarray, Type: np.ndarray)).  Note that the dimensions of the np.ndarray should be 1, i.e., using one pair of square brackets. See demo outputs below."
   ]
  },
  {
   "cell_type": "code",
   "execution_count": 136,
   "metadata": {
    "pycharm": {
     "name": "#%%\n"
    }
   },
   "outputs": [],
   "source": [
    "def solve_homogeneous(A):\n",
    "    \n",
    "    # Convert to identity\n",
    "    A = gaussian_elim(A)\n",
    "    rows, cols = A.shape\n",
    "    \n",
    "    # Check for full rank\n",
    "    full_rank = np.linalg.matrix_rank(A) == rows\n",
    "\n",
    "    # Check for rows of all zeros\n",
    "    has_zero_row = any(np.all(row == 0) for row in A)\n",
    "\n",
    "    # If the matrix has full rank and no rows of all zeros, only the trivial solution exists\n",
    "    if full_rank and not has_zero_row:\n",
    "        return int(0)\n",
    "    \n",
    "    else:\n",
    "        # check if it is Identity\n",
    "        isIdentity = True\n",
    "        for col in range(A.shape[1]):\n",
    "            for row in range(A.shape[0]):\n",
    "                if(col == row):\n",
    "                    if(A[row,col] != 1):\n",
    "                        isIdentity = False\n",
    "                else:\n",
    "                    if(A[row,col] != 0):\n",
    "                        isIdentity = False\n",
    "\n",
    "        if(isIdentity):\n",
    "            return int(0)\n",
    "\n",
    "        else:\n",
    "             # Find a non-trivial solution by setting free variables\n",
    "            solution1 = np.zeros(cols)\n",
    "            solution2 = np.zeros(cols)\n",
    "\n",
    "            # Set values for free variables and compute corresponding dependent variables\n",
    "            for i in range(cols):\n",
    "                if i < rows and A[i, i] == 1:\n",
    "                    continue  # Skip pivot variables\n",
    "                solution1[i] = 1\n",
    "                solution2[i] = 2\n",
    "                for j in range(rows):\n",
    "                    solution1[j] -= A[j, i]\n",
    "                    solution2[j] -= 2 * A[j, i]\n",
    "\n",
    "            return (solution1[np.newaxis, :], solution2[np.newaxis, :])\n"
   ]
  },
  {
   "cell_type": "code",
   "execution_count": 137,
   "metadata": {
    "pycharm": {
     "name": "#%%\n"
    }
   },
   "outputs": [
    {
     "name": "stdout",
     "output_type": "stream",
     "text": [
      "0\n"
     ]
    }
   ],
   "source": [
    "A = np.array([[ 6,  9,  1,  7],\n",
    "               [17,  1,  3, 17],\n",
    "               [ 8,  4,  9, 13],\n",
    "               [18,  4, 18, 18]])\n",
    "print(solve_homogeneous(A))\n",
    "# The result should look like\n",
    "# 0"
   ]
  },
  {
   "cell_type": "code",
   "execution_count": 138,
   "metadata": {
    "pycharm": {
     "name": "#%%\n"
    }
   },
   "outputs": [
    {
     "name": "stdout",
     "output_type": "stream",
     "text": [
      "0\n"
     ]
    }
   ],
   "source": [
    "B = np.array([[ 6,  8,  6, 15, 12],\n",
    "           [17,  8,  8, 12,  2],\n",
    "           [18, 15, 15,  7,  2],\n",
    "           [ 7,  6, 10,  3, 18],\n",
    "           [14,  4,  4,  2, 16]])\n",
    "print(solve_homogeneous(B))\n",
    "# The result should look like\n",
    "# 0"
   ]
  },
  {
   "cell_type": "code",
   "execution_count": 139,
   "metadata": {
    "pycharm": {
     "name": "#%%\n"
    }
   },
   "outputs": [
    {
     "name": "stdout",
     "output_type": "stream",
     "text": [
      "(array([[ 0.72, -1.32,  1.  ]]), array([[ 1.44, -2.64,  2.  ]]))\n"
     ]
    }
   ],
   "source": [
    "C = np.array([[ 8, 18, 18],\n",
    "               [14, 19, 15],\n",
    "               [4,  9,  9]])\n",
    "\n",
    "print(solve_homogeneous(C))\n",
    "# The result should look like\n",
    "# (array([ 0.72, -1.32,  1.  ]), array([ 1.44, -2.64,  2.  ]))\n",
    "# Note they are not unique"
   ]
  },
  {
   "cell_type": "code",
   "execution_count": 140,
   "metadata": {
    "pycharm": {
     "name": "#%%\n"
    }
   },
   "outputs": [
    {
     "name": "stdout",
     "output_type": "stream",
     "text": [
      "0\n"
     ]
    }
   ],
   "source": [
    "D = np.array([[10,  3,  2,  8],\n",
    "           [16,  5,  8,  5],\n",
    "           [ 0,  0, 13, 16]])\n",
    "\n",
    "print(solve_homogeneous(D))\n",
    "#The result should look like\n",
    "# ((array([-21.11538462,  68.53846154,  -1.23076923,   1.        ]), \n",
    "# array([-42.23076923, 137.07692308,  -2.46153846,   2.        ]))\n",
    "# Note they are not unique"
   ]
  },
  {
   "cell_type": "code",
   "execution_count": 141,
   "metadata": {
    "pycharm": {
     "name": "#%%\n"
    }
   },
   "outputs": [
    {
     "name": "stdout",
     "output_type": "stream",
     "text": [
      "0\n"
     ]
    }
   ],
   "source": [
    "E = np.array([[ 2, 12,  2],\n",
    "           [12,  8,  7],\n",
    "           [14,  5, 17],\n",
    "           [ 8, 10,  5]])\n",
    "\n",
    "print(solve_homogeneous(E))\n",
    "# The result should look like\n",
    "# 0"
   ]
  },
  {
   "cell_type": "markdown",
   "metadata": {
    "pycharm": {
     "name": "#%% md\n"
    }
   },
   "source": [
    "Make sure you pass the following test. Note that, passing the test set does not guarantee you with full mark. We will use different cases when testing your implementation."
   ]
  },
  {
   "cell_type": "code",
   "execution_count": 142,
   "metadata": {
    "pycharm": {
     "name": "#%%\n"
    }
   },
   "outputs": [
    {
     "name": "stdout",
     "output_type": "stream",
     "text": [
      "True\n"
     ]
    },
    {
     "ename": "ValueError",
     "evalue": "matmul: Input operand 1 has a mismatch in its core dimension 0, with gufunc signature (n?,k),(k,m?)->(n?,m?) (size 1 is different from 5)",
     "output_type": "error",
     "traceback": [
      "\u001b[0;31m---------------------------------------------------------------------------\u001b[0m",
      "\u001b[0;31mValueError\u001b[0m                                Traceback (most recent call last)",
      "\u001b[0;32m/var/folders/fj/f6bphbn90cz8c7py9xjvrfmw0000gn/T/ipykernel_16425/3912955982.py\u001b[0m in \u001b[0;36m<module>\u001b[0;34m\u001b[0m\n\u001b[1;32m     58\u001b[0m \u001b[0;34m\u001b[0m\u001b[0m\n\u001b[1;32m     59\u001b[0m \u001b[0mprint\u001b[0m\u001b[0;34m(\u001b[0m\u001b[0mtest_homogeneous_trivial\u001b[0m\u001b[0;34m(\u001b[0m\u001b[0;34m)\u001b[0m\u001b[0;34m)\u001b[0m\u001b[0;34m\u001b[0m\u001b[0;34m\u001b[0m\u001b[0m\n\u001b[0;32m---> 60\u001b[0;31m \u001b[0mprint\u001b[0m\u001b[0;34m(\u001b[0m\u001b[0mtest_homogeneous_nontrivial\u001b[0m\u001b[0;34m(\u001b[0m\u001b[0;34m)\u001b[0m\u001b[0;34m)\u001b[0m\u001b[0;34m\u001b[0m\u001b[0;34m\u001b[0m\u001b[0m\n\u001b[0m",
      "\u001b[0;32m/var/folders/fj/f6bphbn90cz8c7py9xjvrfmw0000gn/T/ipykernel_16425/3912955982.py\u001b[0m in \u001b[0;36mtest_homogeneous_nontrivial\u001b[0;34m()\u001b[0m\n\u001b[1;32m     38\u001b[0m         \u001b[0mx1\u001b[0m \u001b[0;34m=\u001b[0m \u001b[0mnp\u001b[0m\u001b[0;34m.\u001b[0m\u001b[0mexpand_dims\u001b[0m\u001b[0;34m(\u001b[0m\u001b[0msolve_homogeneous\u001b[0m\u001b[0;34m(\u001b[0m\u001b[0ma\u001b[0m\u001b[0;34m)\u001b[0m\u001b[0;34m[\u001b[0m\u001b[0;36m0\u001b[0m\u001b[0;34m]\u001b[0m\u001b[0;34m,\u001b[0m \u001b[0maxis\u001b[0m\u001b[0;34m=\u001b[0m\u001b[0;36m1\u001b[0m\u001b[0;34m)\u001b[0m\u001b[0;34m\u001b[0m\u001b[0;34m\u001b[0m\u001b[0m\n\u001b[1;32m     39\u001b[0m         \u001b[0mx2\u001b[0m \u001b[0;34m=\u001b[0m \u001b[0mnp\u001b[0m\u001b[0;34m.\u001b[0m\u001b[0mexpand_dims\u001b[0m\u001b[0;34m(\u001b[0m\u001b[0msolve_homogeneous\u001b[0m\u001b[0;34m(\u001b[0m\u001b[0ma\u001b[0m\u001b[0;34m)\u001b[0m\u001b[0;34m[\u001b[0m\u001b[0;36m1\u001b[0m\u001b[0;34m]\u001b[0m\u001b[0;34m,\u001b[0m \u001b[0maxis\u001b[0m\u001b[0;34m=\u001b[0m\u001b[0;36m1\u001b[0m\u001b[0;34m)\u001b[0m\u001b[0;34m\u001b[0m\u001b[0;34m\u001b[0m\u001b[0m\n\u001b[0;32m---> 40\u001b[0;31m         \u001b[0;32mif\u001b[0m \u001b[0mabs\u001b[0m\u001b[0;34m(\u001b[0m\u001b[0mnp\u001b[0m\u001b[0;34m.\u001b[0m\u001b[0msum\u001b[0m\u001b[0;34m(\u001b[0m\u001b[0ma\u001b[0m \u001b[0;34m@\u001b[0m \u001b[0mx1\u001b[0m\u001b[0;34m)\u001b[0m\u001b[0;34m)\u001b[0m \u001b[0;34m>\u001b[0m \u001b[0;36m1e-6\u001b[0m \u001b[0;32mor\u001b[0m \u001b[0mabs\u001b[0m\u001b[0;34m(\u001b[0m\u001b[0mnp\u001b[0m\u001b[0;34m.\u001b[0m\u001b[0msum\u001b[0m\u001b[0;34m(\u001b[0m\u001b[0ma\u001b[0m \u001b[0;34m@\u001b[0m \u001b[0mx2\u001b[0m\u001b[0;34m)\u001b[0m\u001b[0;34m)\u001b[0m \u001b[0;34m>\u001b[0m \u001b[0;36m1e-6\u001b[0m \u001b[0;32mor\u001b[0m \u001b[0;34m(\u001b[0m\u001b[0mx1\u001b[0m\u001b[0;34m==\u001b[0m\u001b[0mx2\u001b[0m\u001b[0;34m)\u001b[0m\u001b[0;34m.\u001b[0m\u001b[0mall\u001b[0m\u001b[0;34m(\u001b[0m\u001b[0;34m)\u001b[0m\u001b[0;34m:\u001b[0m\u001b[0;34m\u001b[0m\u001b[0;34m\u001b[0m\u001b[0m\n\u001b[0m\u001b[1;32m     41\u001b[0m             \u001b[0mprint\u001b[0m\u001b[0;34m(\u001b[0m\u001b[0ma_\u001b[0m\u001b[0;34m,\u001b[0m \u001b[0;34m'\\n'\u001b[0m\u001b[0;34m)\u001b[0m\u001b[0;34m\u001b[0m\u001b[0;34m\u001b[0m\u001b[0m\n\u001b[1;32m     42\u001b[0m             \u001b[0mprint\u001b[0m\u001b[0;34m(\u001b[0m\u001b[0;34m'the solutions are not correct'\u001b[0m\u001b[0;34m)\u001b[0m\u001b[0;34m\u001b[0m\u001b[0;34m\u001b[0m\u001b[0m\n",
      "\u001b[0;31mValueError\u001b[0m: matmul: Input operand 1 has a mismatch in its core dimension 0, with gufunc signature (n?,k),(k,m?)->(n?,m?) (size 1 is different from 5)"
     ]
    }
   ],
   "source": [
    "def test_homogeneous_trivial():\n",
    "    # test A with m>n and m=n but no dependent rows in it\n",
    "    for i in range(1000):\n",
    "        m = np.random.randint(low=4, high=6)\n",
    "        n = np.random.randint(low=2, high=5)\n",
    "        a = np.random.randn(m, n)\n",
    "        res = solve_homogeneous(a)\n",
    "        if res != 0:\n",
    "            print(a, '\\n')\n",
    "            print(f' solution should be 0 but got {res}')\n",
    "            return False\n",
    "    # test A with m>n and there are dependent rows in it\n",
    "    test_list = [\n",
    "        np.array([[1, 2], [3, 4], [2, 4]]),\n",
    "        np.array([[1, 2, 3], [2, 4, 6], [3, 4, 5], [4, 7, 9]]),\n",
    "    ]\n",
    "    for case in test_list:\n",
    "        res = solve_homogeneous(case)\n",
    "        if res != 0:\n",
    "            print(a, '\\n')\n",
    "            print(f' solution should be 0 but got {res}')\n",
    "            return False\n",
    "    return True\n",
    "\n",
    "def test_homogeneous_nontrivial():\n",
    "    import random\n",
    "    # test A with m=n and m<n\n",
    "    for i in range(1000):\n",
    "        m = np.random.randint(low=2, high=5)\n",
    "        n = np.random.randint(low=4, high=6)\n",
    "        a = np.random.randn(m, n)\n",
    "        a_ = a.copy()\n",
    "        # create matrices whose rows or columns are dependent\n",
    "        dpdt = random.sample(range(0, m), np.random.randint(low=2, high=m + 1))\n",
    "        duplicate = a[dpdt[0]]\n",
    "        for row in dpdt:\n",
    "            a[row] = duplicate\n",
    "        x1 = np.expand_dims(solve_homogeneous(a)[0], axis=1)\n",
    "        x2 = np.expand_dims(solve_homogeneous(a)[1], axis=1)\n",
    "        if abs(np.sum(a @ x1)) > 1e-6 or abs(np.sum(a @ x2)) > 1e-6 or (x1==x2).all():\n",
    "            print(a_, '\\n')\n",
    "            print('the solutions are not correct')\n",
    "            return False\n",
    "    # test A with m>n\n",
    "    test_list = [\n",
    "        np.array([[1, 2], [1, 2], [2, 4]]),\n",
    "        np.array([[1, 2, 3], [3, 6, 9], [1, 2, 3], [4, 7, 9]]),\n",
    "        np.array([[1, 2, 3], [4, 5, 6], [7, 8, 9]])\n",
    "    ]\n",
    "    for case in test_list:\n",
    "        x1 = np.expand_dims(solve_homogeneous(case)[0], axis=1)\n",
    "        x2 = np.expand_dims(solve_homogeneous(case)[1], axis=1)\n",
    "        if abs(np.sum(case @ x1)) > 1e-6 or abs(np.sum(case @ x2)) > 1e-6 or (x1==x2).all():\n",
    "            print(a_, '\\n')\n",
    "            print('the solutions are not correct')\n",
    "            return False\n",
    "    return True\n",
    "\n",
    "print(test_homogeneous_trivial())\n",
    "print(test_homogeneous_nontrivial())"
   ]
  },
  {
   "cell_type": "markdown",
   "metadata": {
    "pycharm": {
     "name": "#%% md\n"
    }
   },
   "source": [
    "---\n",
    "**Task 2.3**: A system of linear equations is called non-homogeneous if the right hand side is not the zero vector. A non-homogeneous system of linear equations has\n",
    "* no solution, or\n",
    "* a unique solution, or\n",
    "* infinite number of solutions\n",
    "\n",
    "Similar to Task 2.2, your task is solving a non-homogeneous system of linear equations. You **MUST NOT** revoke any numpy inbuilt functions you used in Task 1, however, you are allowed to use the functions you defined in Task 2.2. Your function needs to work under **different shapes** of augmented matrix $[A|b]$. \n",
    "\n",
    "The *solve_nonhomogeneous* function should be according to following specifications:\n",
    "* Take as input the augmented matrix $[A|b]$. \n",
    "* Return:\n",
    "    - None if it has no solution at all. Type: None.\n",
    "    - the single solution if it only has one solution. Type: np.ndarray.\n",
    "    - otherwise, return any two different solutions if it has more than one solutions. Type: tuple((np.ndarray, Type: np.ndarray)).\n",
    "*  Note that the dimensions of the np.ndarray should be 1, especially, one pair of square brackets. See demo outputs below.    "
   ]
  },
  {
   "cell_type": "code",
   "execution_count": 143,
   "metadata": {},
   "outputs": [
    {
     "name": "stdout",
     "output_type": "stream",
     "text": [
      "[[0.19444444 0.52777778 3.11111111]]\n"
     ]
    }
   ],
   "source": [
    "# Define the coefficients of the system of equations\n",
    "A = np.array([[9, 19, 2],\n",
    "              [5, 7, 3],\n",
    "              [14, 6, 1]])\n",
    "\n",
    "# Define the constants\n",
    "b = np.array([[18],\n",
    "              [14],\n",
    "              [9]])\n",
    "\n",
    "# Combine A and b to form the augmented matrix Ab\n",
    "Ab = np.hstack((A, b))\n",
    "\n",
    "# Call the function with the augmented matrix\n",
    "result = solve_nonhomogeneous(Ab)\n",
    "\n",
    "# Print the result\n",
    "print(result)"
   ]
  },
  {
   "cell_type": "code",
   "execution_count": 154,
   "metadata": {},
   "outputs": [
    {
     "name": "stdout",
     "output_type": "stream",
     "text": [
      "[[0.19444444 0.52777778 3.11111111]]\n"
     ]
    }
   ],
   "source": [
    "def solve_nonhomogeneous(Ab):\n",
    "    # Convert to RREF using Gaussian elimination\n",
    "    RREF = gaussian_elim(Ab)\n",
    "    rows, cols = RREF.shape\n",
    "    cols -= 1  # Exclude the last column for b\n",
    "\n",
    "    # Check for no solution\n",
    "    if any(all(row[:-1] == 0) and row[-1] != 0 for row in RREF):\n",
    "        return None\n",
    "\n",
    "    # Check for unique solution\n",
    "    pivot_columns = sum(1 for row in RREF if any(row[:-1]))\n",
    "    if pivot_columns == rows:\n",
    "        solution = np.zeros(cols)\n",
    "        for i in range(rows):\n",
    "            solution[i] = RREF[i, -1] - sum(RREF[i, j] * solution[j] for j in range(i + 1, cols))\n",
    "        return solution[np.newaxis, :]\n",
    "\n",
    "    # Check for infinite solutions\n",
    "    solution1 = np.zeros(cols)\n",
    "    solution2 = np.zeros(cols)\n",
    "    for i in range(rows):\n",
    "        if RREF[i, i] == 1:\n",
    "            solution1[i] = RREF[i, -1] - sum(RREF[i, j] * solution1[j] for j in range(i + 1, cols))\n",
    "            solution2[i] = RREF[i, -1] - sum(RREF[i, j] * solution2[j] for j in range(i + 1, cols))\n",
    "        else:\n",
    "            # Set values for free variables\n",
    "            free_var_index = next((j for j in range(cols) if RREF[i, j] != 0), None)\n",
    "            if free_var_index is not None:\n",
    "                solution1[free_var_index] = 1\n",
    "                solution2[free_var_index] = 2\n",
    "\n",
    "    return (solution1[np.newaxis, :], solution2[np.newaxis, :])\n",
    "\n",
    "# Example usage\n",
    "B = np.array([[ 9, 19,  2, 18],\n",
    "           [ 5,  7,  3, 14],\n",
    "           [14,  6,  1,  9]])\n",
    "\n",
    "\n",
    "print(solve_nonhomogeneous(B))"
   ]
  },
  {
   "cell_type": "code",
   "execution_count": 155,
   "metadata": {
    "pycharm": {
     "name": "#%%\n"
    }
   },
   "outputs": [
    {
     "name": "stdout",
     "output_type": "stream",
     "text": [
      "None\n"
     ]
    }
   ],
   "source": [
    "A = np.array([[ 9,  5, 14,  3],\n",
    "           [ 9,  1, 11,  0],\n",
    "           [ 0,  4,  3,  2]])\n",
    "\n",
    "print(solve_nonhomogeneous(A))\n",
    "# The result should look like\n",
    "# None"
   ]
  },
  {
   "cell_type": "code",
   "execution_count": 156,
   "metadata": {
    "pycharm": {
     "name": "#%%\n"
    }
   },
   "outputs": [
    {
     "name": "stdout",
     "output_type": "stream",
     "text": [
      "[[0.19444444 0.52777778 3.11111111]]\n"
     ]
    }
   ],
   "source": [
    "B = np.array([[ 9, 19,  2, 18],\n",
    "           [ 5,  7,  3, 14],\n",
    "           [14,  6,  1,  9]])\n",
    "\n",
    "print(solve_nonhomogeneous(B))\n",
    "# The result should look like\n",
    "# [0.19444444 0.52777778 3.11111111]"
   ]
  },
  {
   "cell_type": "code",
   "execution_count": 157,
   "metadata": {
    "pycharm": {
     "name": "#%%\n"
    }
   },
   "outputs": [
    {
     "name": "stdout",
     "output_type": "stream",
     "text": [
      "[[0.17357143 0.41928571 1.14714286 0.15       0.        ]]\n"
     ]
    }
   ],
   "source": [
    "C = np.array([[14, 14,  0, 18,  2, 11],\n",
    "           [12, 12,  5,  1, 19, 13],\n",
    "           [ 9,  3,  7,  1,  2, 11],\n",
    "           [18, 10,  6, 12,  8, 16]])\n",
    "print(solve_nonhomogeneous(C))\n",
    "# The result should look like\n",
    "# (array([-2.99214286,  0.35642857,  4.61571429,  2.55      ,  1.        ]), \n",
    "# array([-6.15785714,  0.29357143,  8.08428571,  4.95      ,  2.        ]))\n",
    "# The results are not unique"
   ]
  },
  {
   "cell_type": "markdown",
   "metadata": {
    "pycharm": {
     "name": "#%% md\n"
    }
   },
   "source": [
    "Make sure you pass the following test. Note that, passing the test set does not guarantee you with full mark. We will use different cases when testing your implementation."
   ]
  },
  {
   "cell_type": "code",
   "execution_count": 158,
   "metadata": {
    "pycharm": {
     "name": "#%%\n"
    }
   },
   "outputs": [
    {
     "ename": "ValueError",
     "evalue": "The truth value of an array with more than one element is ambiguous. Use a.any() or a.all()",
     "output_type": "error",
     "traceback": [
      "\u001b[0;31m---------------------------------------------------------------------------\u001b[0m",
      "\u001b[0;31mValueError\u001b[0m                                Traceback (most recent call last)",
      "\u001b[0;32m/var/folders/fj/f6bphbn90cz8c7py9xjvrfmw0000gn/T/ipykernel_16425/847634464.py\u001b[0m in \u001b[0;36m<module>\u001b[0;34m\u001b[0m\n\u001b[1;32m     86\u001b[0m     \u001b[0;32mreturn\u001b[0m \u001b[0;32mTrue\u001b[0m\u001b[0;34m\u001b[0m\u001b[0;34m\u001b[0m\u001b[0m\n\u001b[1;32m     87\u001b[0m \u001b[0;34m\u001b[0m\u001b[0m\n\u001b[0;32m---> 88\u001b[0;31m \u001b[0mprint\u001b[0m\u001b[0;34m(\u001b[0m\u001b[0mtest_nonhomogeneous_no_solution\u001b[0m\u001b[0;34m(\u001b[0m\u001b[0;34m)\u001b[0m\u001b[0;34m)\u001b[0m\u001b[0;34m\u001b[0m\u001b[0;34m\u001b[0m\u001b[0m\n\u001b[0m\u001b[1;32m     89\u001b[0m \u001b[0mprint\u001b[0m\u001b[0;34m(\u001b[0m\u001b[0mtest_nonhomogeneous_single_solution\u001b[0m\u001b[0;34m(\u001b[0m\u001b[0;34m)\u001b[0m\u001b[0;34m)\u001b[0m\u001b[0;34m\u001b[0m\u001b[0;34m\u001b[0m\u001b[0m\n\u001b[1;32m     90\u001b[0m \u001b[0mprint\u001b[0m\u001b[0;34m(\u001b[0m\u001b[0mtest_nonhomogeneous_infinite_solution\u001b[0m\u001b[0;34m(\u001b[0m\u001b[0;34m)\u001b[0m\u001b[0;34m)\u001b[0m\u001b[0;34m\u001b[0m\u001b[0;34m\u001b[0m\u001b[0m\n",
      "\u001b[0;32m/var/folders/fj/f6bphbn90cz8c7py9xjvrfmw0000gn/T/ipykernel_16425/847634464.py\u001b[0m in \u001b[0;36mtest_nonhomogeneous_no_solution\u001b[0;34m()\u001b[0m\n\u001b[1;32m     12\u001b[0m             \u001b[0ma\u001b[0m\u001b[0;34m[\u001b[0m\u001b[0mrow\u001b[0m\u001b[0;34m]\u001b[0m \u001b[0;34m=\u001b[0m \u001b[0mduplicate\u001b[0m\u001b[0;34m\u001b[0m\u001b[0;34m\u001b[0m\u001b[0m\n\u001b[1;32m     13\u001b[0m             \u001b[0ma\u001b[0m\u001b[0;34m[\u001b[0m\u001b[0mrow\u001b[0m\u001b[0;34m]\u001b[0m\u001b[0;34m[\u001b[0m\u001b[0;34m-\u001b[0m\u001b[0;36m1\u001b[0m\u001b[0;34m]\u001b[0m \u001b[0;34m=\u001b[0m \u001b[0mnp\u001b[0m\u001b[0;34m.\u001b[0m\u001b[0mrandom\u001b[0m\u001b[0;34m.\u001b[0m\u001b[0mnormal\u001b[0m\u001b[0;34m(\u001b[0m\u001b[0mloc\u001b[0m\u001b[0;34m=\u001b[0m\u001b[0ma\u001b[0m\u001b[0;34m[\u001b[0m\u001b[0mrow\u001b[0m\u001b[0;34m]\u001b[0m\u001b[0;34m[\u001b[0m\u001b[0;34m-\u001b[0m\u001b[0;36m1\u001b[0m\u001b[0;34m]\u001b[0m\u001b[0;34m)\u001b[0m\u001b[0;34m\u001b[0m\u001b[0;34m\u001b[0m\u001b[0m\n\u001b[0;32m---> 14\u001b[0;31m         \u001b[0;32mif\u001b[0m \u001b[0msolve_nonhomogeneous\u001b[0m\u001b[0;34m(\u001b[0m\u001b[0ma\u001b[0m\u001b[0;34m)\u001b[0m\u001b[0;34m:\u001b[0m\u001b[0;34m\u001b[0m\u001b[0;34m\u001b[0m\u001b[0m\n\u001b[0m\u001b[1;32m     15\u001b[0m             \u001b[0mprint\u001b[0m\u001b[0;34m(\u001b[0m\u001b[0ma_\u001b[0m\u001b[0;34m,\u001b[0m \u001b[0;34m'\\n'\u001b[0m\u001b[0;34m)\u001b[0m\u001b[0;34m\u001b[0m\u001b[0;34m\u001b[0m\u001b[0m\n\u001b[1;32m     16\u001b[0m             \u001b[0mprint\u001b[0m\u001b[0;34m(\u001b[0m\u001b[0;34mf'the solution should be None, but got {solve_nonhomogeneous(a)}'\u001b[0m\u001b[0;34m)\u001b[0m\u001b[0;34m\u001b[0m\u001b[0;34m\u001b[0m\u001b[0m\n",
      "\u001b[0;31mValueError\u001b[0m: The truth value of an array with more than one element is ambiguous. Use a.any() or a.all()"
     ]
    }
   ],
   "source": [
    "def test_nonhomogeneous_no_solution():\n",
    "    import random\n",
    "    for i in range(1000):\n",
    "        m = np.random.randint(low=3, high=6)\n",
    "        n = np.random.randint(low=3, high=6)\n",
    "        a = np.random.randn(m, n)\n",
    "        a_ = a.copy()\n",
    "        # create matrices whose rows conflict\n",
    "        cflt = random.sample(range(0, m), np.random.randint(low=2, high=m + 1))\n",
    "        duplicate = a[cflt[0]]\n",
    "        for row in cflt:\n",
    "            a[row] = duplicate\n",
    "            a[row][-1] = np.random.normal(loc=a[row][-1])\n",
    "        if solve_nonhomogeneous(a):\n",
    "            print(a_, '\\n')\n",
    "            print(f'the solution should be None, but got {solve_nonhomogeneous(a)}')\n",
    "            return False\n",
    "    return True\n",
    "\n",
    "def test_nonhomogeneous_single_solution():\n",
    "    # test square A\n",
    "    for i in range(1000):\n",
    "        m = np.random.randint(low=3, high=6)\n",
    "        n = m + 1\n",
    "        a = np.random.randn(m, n)\n",
    "        x = np.expand_dims(solve_nonhomogeneous(a), axis=1)\n",
    "        if abs(np.sum(a[:, :-1] @ x) - np.sum(a[:, -1])) > 1e-6:\n",
    "            print(a, '\\n')\n",
    "            print('the solution is not correct')\n",
    "            return False\n",
    "    test_list = [\n",
    "        np.array([[1, 1, 1], [1, 3, 3], [2, 2, 2]]),\n",
    "        np.array([[1, 2, 3, 2], [2, 4, 6, 4], [3, 6, 9, 6], [4, 7, 9, 10], [1, 2, 4, 7]]),\n",
    "    ]\n",
    "    # test A with m>n\n",
    "    for case in test_list:\n",
    "        x = np.expand_dims(solve_nonhomogeneous(case), axis=1)\n",
    "        if abs(np.sum(case[:, :-1] @ x) - np.sum(case[:, -1])) > 1e-6:\n",
    "            print(a, '\\n')\n",
    "            print('the solution is not correct')\n",
    "            return False\n",
    "    return True\n",
    "\n",
    "def test_nonhomogeneous_infinite_solution():\n",
    "    import random\n",
    "    for i in range(1000):\n",
    "        # test A with m=n and m<n whose rows are dependent\n",
    "        m = np.random.randint(low=2, high=5)\n",
    "        n = m + np.random.randint(low=1, high=4)\n",
    "        a = np.random.randn(m, n)\n",
    "        a_ = a.copy()\n",
    "        # create matrices whose rows or columns are dependent\n",
    "        dpdt = random.sample(range(0, m), np.random.randint(low=2, high=m + 1))\n",
    "        duplicate = a[dpdt[0]]\n",
    "        for row in dpdt:\n",
    "            a[row] = duplicate\n",
    "        x1 = np.expand_dims(solve_nonhomogeneous(a)[0], axis=1)\n",
    "        x2 = np.expand_dims(solve_nonhomogeneous(a)[1], axis=1)\n",
    "        if abs(np.sum(a[:, :-1] @ x1) - np.sum(a[:, -1])) > 1e-6 or abs(\n",
    "                np.sum(a[:, :-1] @ x2) - np.sum(a[:, -1])) > 1e-6 or (x1==x2).all():\n",
    "            print(a_, '\\n')\n",
    "            print('the solutions are not correct')\n",
    "            return False\n",
    "        # test A with m<n whose rows are not dependent\n",
    "        if n > m + 1:\n",
    "            x1 = np.expand_dims(solve_nonhomogeneous(a_)[0], axis=1)\n",
    "            x2 = np.expand_dims(solve_nonhomogeneous(a_)[1], axis=1)\n",
    "            if abs(np.sum(a[:, :-1] @ x1) - np.sum(a[:, -1])) > 1e-6 or abs(\n",
    "                    np.sum(a[:, :-1] @ x2) - np.sum(a[:, -1])) > 1e-6 or (x1==x2).all():\n",
    "                print(a_, '\\n')\n",
    "                print('the solutions are not correct')\n",
    "                return False\n",
    "    # test A with m>n whose rows are dependent\n",
    "    test_list = [\n",
    "        np.array([[1, 2, 3], [2, 4, 6], [3, 6, 9]]),\n",
    "        np.array([[1, 2, 3, 4], [2, 4, 6, 8], [1, 4, 7, 9], [1, 2, 3, 4], [2, 4, 6, 8]]),\n",
    "    ]\n",
    "    for case in test_list:\n",
    "        x1 = np.expand_dims(solve_nonhomogeneous(case)[0], axis=1)\n",
    "        x2 = np.expand_dims(solve_nonhomogeneous(case)[1], axis=1)\n",
    "        if abs(np.sum(case[:, :-1] @ x1) - np.sum(case[:, -1])) > 1e-6 or abs(\n",
    "                np.sum(case[:, :-1] @ x2) - np.sum(case[:, -1])) > 1e-6 or (x1==x2).all():\n",
    "            print(case, '\\n')\n",
    "            print('the solutions are not correct')\n",
    "            return False\n",
    "    return True\n",
    "\n",
    "print(test_nonhomogeneous_no_solution())\n",
    "print(test_nonhomogeneous_single_solution())\n",
    "print(test_nonhomogeneous_infinite_solution())"
   ]
  },
  {
   "cell_type": "markdown",
   "metadata": {
    "pycharm": {
     "name": "#%% md\n"
    }
   },
   "source": [
    "## Task 3: Rank, Basis and Span\n",
    "\n",
    "Given a matrix $X$, would it be possible for you to programmably determine its rank, null space and column space? In this question, you are tasked at **1) finding the rank and the dimension of the null space $X$, 2) finding the basis that spans the column space of $X$, and 3) finding the basis that spans the null space of $X$.**"
   ]
  },
  {
   "cell_type": "markdown",
   "metadata": {
    "pycharm": {
     "name": "#%% md\n"
    }
   },
   "source": [
    "---\n",
    "**Task 3.1**: Implement two functions `rank`, `dim_null`.\n",
    "\n",
    "`rank`: takes arbitrary matrix $X$ as input, output its rank.\n",
    "\n",
    "`dim_null`: takes arbitrary matrix $X$ as input, output the dimension of its null space\n",
    "\n",
    "**Note: If you didn't get Gaussian Elimination in task2, you may use the library function `sp.Matrix(X).rref()` to get the reduced row echelon form of $X$. But, you must not use other library functions that can solve questions directly.**"
   ]
  },
  {
   "cell_type": "code",
   "execution_count": 37,
   "metadata": {},
   "outputs": [],
   "source": [
    "# Working space\n",
    "def rank(A):\n",
    "    # Get the RREF of A using Gaussian elimination\n",
    "    rref_matrix = gaussian_elim(A)\n",
    "    \n",
    "    # Count the number of non-zero rows\n",
    "    rank = sum(1 for row in rref_matrix if any(row))\n",
    "    \n",
    "    return rank\n",
    "\n",
    "def dim_null(A):\n",
    "    # Get the rank of A\n",
    "    rank_A = rank(A)\n",
    "    \n",
    "    # Get the number of columns\n",
    "    cols = len(A[0])\n",
    "    \n",
    "    # The dimension of the null space is the difference between the number of columns and the rank\n",
    "    return cols - rank_A\n"
   ]
  },
  {
   "cell_type": "code",
   "execution_count": 38,
   "metadata": {},
   "outputs": [
    {
     "name": "stdout",
     "output_type": "stream",
     "text": [
      "[[1. 0. 0.]\n",
      " [0. 1. 0.]\n",
      " [0. 0. 1.]\n",
      " [0. 0. 0.]]\n"
     ]
    }
   ],
   "source": [
    "# Working space\n",
    "A = np.array([[ 1,  8,  4],\n",
    "               [ 0,  0, 11],\n",
    "               [15,  2, 11],\n",
    "               [12,  0,  3]])\n",
    "\n",
    "print(gaussian_elim(A))"
   ]
  },
  {
   "cell_type": "code",
   "execution_count": 39,
   "metadata": {
    "pycharm": {
     "name": "#%%\n"
    }
   },
   "outputs": [
    {
     "name": "stdout",
     "output_type": "stream",
     "text": [
      "0\n",
      "3\n"
     ]
    }
   ],
   "source": [
    "A = np.array([[0, 0, 0], \n",
    "              [0, 0, 0], \n",
    "              [0, 0, 0]])\n",
    "\n",
    "print(rank(A))\n",
    "print(dim_null(A))\n",
    "\n",
    "# you should get\n",
    "# 0\n",
    "# 3"
   ]
  },
  {
   "cell_type": "code",
   "execution_count": 40,
   "metadata": {
    "pycharm": {
     "name": "#%%\n"
    }
   },
   "outputs": [
    {
     "name": "stdout",
     "output_type": "stream",
     "text": [
      "4\n",
      "1\n"
     ]
    }
   ],
   "source": [
    "B = np.array([[16,  8, 12,  8,  5],\n",
    "               [ 0,  7,  9, 14,  2],\n",
    "               [14, 12, 13, 15, 14],\n",
    "               [13, 18, 16, 19, 12]])\n",
    "\n",
    "print(rank(B))\n",
    "print(dim_null(B))\n",
    "\n",
    "# you should get\n",
    "# 4\n",
    "# 1"
   ]
  },
  {
   "cell_type": "code",
   "execution_count": 41,
   "metadata": {
    "pycharm": {
     "name": "#%%\n"
    }
   },
   "outputs": [
    {
     "name": "stdout",
     "output_type": "stream",
     "text": [
      "3\n",
      "0\n"
     ]
    }
   ],
   "source": [
    "C = np.array([[ 1,  8,  4],\n",
    "               [ 0,  0, 11],\n",
    "               [15,  2, 11],\n",
    "               [12,  0,  3]])\n",
    "\n",
    "print(rank(C))\n",
    "print(dim_null(C))\n",
    "\n",
    "# you should get\n",
    "# 3\n",
    "# 0"
   ]
  },
  {
   "cell_type": "markdown",
   "metadata": {
    "pycharm": {
     "name": "#%% md\n"
    }
   },
   "source": [
    "Make sure you pass the following test. Here we only provide the test for the rank."
   ]
  },
  {
   "cell_type": "code",
   "execution_count": 102,
   "metadata": {
    "pycharm": {
     "name": "#%%\n"
    }
   },
   "outputs": [
    {
     "data": {
      "text/plain": [
       "True"
      ]
     },
     "execution_count": 102,
     "metadata": {},
     "output_type": "execute_result"
    }
   ],
   "source": [
    "def test_rank():\n",
    "    for _ in range(1000):\n",
    "        rnd_h = np.random.randint(1, 10)\n",
    "        rnd_w = np.random.randint(1, 10)\n",
    "        rnd_mat = np.random.choice(100, [rnd_h, rnd_w], replace=True).astype(np.float64)\n",
    "        if rank(rnd_mat) != np.linalg.matrix_rank(rnd_mat):\n",
    "            return False\n",
    "    return True\n",
    "test_rank()"
   ]
  },
  {
   "cell_type": "markdown",
   "metadata": {
    "pycharm": {
     "name": "#%% md\n"
    }
   },
   "source": [
    "\n",
    "\n",
    "---\n",
    "**Task 3.2**: Implement `basis_col`.\n",
    "\n",
    "`basis_col`: takes arbitrary matrix $X$ as input, output a basis that spans the column space of $X$. The basis should be a numpy array or a list, containing several numpy array vectors. \n",
    "\n",
    "---"
   ]
  },
  {
   "cell_type": "code",
   "execution_count": 101,
   "metadata": {},
   "outputs": [],
   "source": [
    "# Workiing space\n",
    "\n",
    "\n",
    "def basis_col(A):\n",
    "    # Convert to RREF to identify linearly independent columns\n",
    "    RREF = gaussian_elim(A)\n",
    "    \n",
    "    # Identify the linearly independent columns\n",
    "    basis = []\n",
    "    for i in range(RREF.shape[1]):\n",
    "        if any(RREF[:, i] != 0):\n",
    "            basis.append(A[:, i])\n",
    "    \n",
    "    # If no linearly independent columns found, return a single zero vector\n",
    "    if not basis:\n",
    "        return np.zeros((A.shape[0], 1))\n",
    "    \n",
    "    return np.array(basis).T # np.column_stack(basis)"
   ]
  },
  {
   "cell_type": "code",
   "execution_count": 98,
   "metadata": {
    "pycharm": {
     "name": "#%%\n"
    }
   },
   "outputs": [
    {
     "name": "stdout",
     "output_type": "stream",
     "text": [
      "[[0.]\n",
      " [0.]\n",
      " [0.]]\n"
     ]
    }
   ],
   "source": [
    "A = np.array([[0, 0, 0], \n",
    "              [0, 0, 0], \n",
    "              [0, 0, 0]])\n",
    "\n",
    "print(basis_col(A))\n",
    "\n",
    "# should return \n",
    "# array([[0], [0], [0]])"
   ]
  },
  {
   "cell_type": "code",
   "execution_count": 99,
   "metadata": {
    "pycharm": {
     "name": "#%%\n"
    }
   },
   "outputs": [
    {
     "name": "stdout",
     "output_type": "stream",
     "text": [
      "[[13 11  6  9  6]\n",
      " [ 0 12 16 11 14]\n",
      " [ 5 15  8  3  0]\n",
      " [16  3  1 14  5]]\n"
     ]
    }
   ],
   "source": [
    "B = np.array([[13, 11,  6,  9,  6],\n",
    "            [ 0, 12, 16, 11, 14],\n",
    "            [ 5, 15,  8,  3,  0],\n",
    "            [16,  3,  1, 14,  5]])\n",
    "\n",
    "print(basis_col(B))\n",
    "\n",
    "# should return something like\n",
    "# array([[13, 11, 6, 9], [0, 12, 16, 11], [5, 15, 8, 3], [16, 3, 1, 14]])\n",
    "# the solution is not unique"
   ]
  },
  {
   "cell_type": "code",
   "execution_count": 100,
   "metadata": {
    "pycharm": {
     "name": "#%%\n"
    }
   },
   "outputs": [
    {
     "name": "stdout",
     "output_type": "stream",
     "text": [
      "[[1 1]\n",
      " [1 1]\n",
      " [1 1]]\n"
     ]
    }
   ],
   "source": [
    "C = np.array([[1, 1], \n",
    "              [1, 1], \n",
    "              [1, 1]])\n",
    "\n",
    "print(basis_col(C))\n",
    "# should return something like\n",
    "# array([[1], [1], [1]])\n",
    "# the solution is not unique"
   ]
  },
  {
   "cell_type": "markdown",
   "metadata": {
    "pycharm": {
     "name": "#%% md\n"
    }
   },
   "source": [
    "We will use more test cases when testing your implementation."
   ]
  },
  {
   "cell_type": "markdown",
   "metadata": {
    "pycharm": {
     "name": "#%% md\n"
    }
   },
   "source": [
    "---\n",
    "**Task 3.3**: Implement `basis_null`.\n",
    "\n",
    "`basis_null`: takes arbitrary matrix $X$ as input, output a basis that spans the null space of $X$. The basis should be a numpy array or a list, containing several numpy array vectors.\n",
    "\n",
    "---"
   ]
  },
  {
   "cell_type": "code",
   "execution_count": 67,
   "metadata": {},
   "outputs": [],
   "source": [
    "# Working environment\n",
    "\n",
    "def basis_null(A):\n",
    "    # Convert to RREF to identify free variables\n",
    "    RREF = gaussian_elim(A)\n",
    "    rows, cols = RREF.shape\n",
    "    basis = []\n",
    "    \n",
    "    # Identify pivot columns (columns with leading 1s)\n",
    "    pivot_columns = [np.argmax(row) if any(row) else None for row in RREF]\n",
    "    \n",
    "    # Iterate through columns to find free variables\n",
    "    for i in range(cols):\n",
    "        if i not in pivot_columns:\n",
    "            vector = np.zeros(cols)\n",
    "            vector[i] = 1\n",
    "            \n",
    "            for r in range(rows):\n",
    "                pivot_col = pivot_columns[r]\n",
    "                if pivot_col is not None and pivot_col < cols:\n",
    "                    vector[r] = -RREF[r, i]\n",
    "            \n",
    "            basis.append(vector)\n",
    "    \n",
    "    return np.array(basis).T"
   ]
  },
  {
   "cell_type": "code",
   "execution_count": 68,
   "metadata": {
    "pycharm": {
     "name": "#%%\n"
    }
   },
   "outputs": [
    {
     "name": "stdout",
     "output_type": "stream",
     "text": [
      "[[1. 0. 0.]\n",
      " [0. 1. 0.]\n",
      " [0. 0. 1.]]\n"
     ]
    }
   ],
   "source": [
    "A = np.array([[0, 0, 0], \n",
    "              [0, 0, 0], \n",
    "              [0, 0, 0]])\n",
    "\n",
    "print(basis_null(A))\n",
    "\n",
    "# should return something like an identity matrix. The solution is not unique."
   ]
  },
  {
   "cell_type": "code",
   "execution_count": 69,
   "metadata": {
    "pycharm": {
     "name": "#%%\n"
    }
   },
   "outputs": [
    {
     "name": "stdout",
     "output_type": "stream",
     "text": [
      "[]\n"
     ]
    }
   ],
   "source": [
    "B = np.array([[16, 16, 11],\n",
    "            [14, 19, 11],\n",
    "            [11, 12, 19]])\n",
    "\n",
    "print(basis_null(B))\n",
    "\n",
    "# should return\n",
    "# array([[0], [0], [0]])"
   ]
  },
  {
   "cell_type": "markdown",
   "metadata": {
    "pycharm": {
     "name": "#%% md\n"
    }
   },
   "source": [
    "We will use more test cases when testing your implementation."
   ]
  }
 ],
 "metadata": {
  "kernelspec": {
   "display_name": "Python 3 (ipykernel)",
   "language": "python",
   "name": "python3"
  },
  "language_info": {
   "codemirror_mode": {
    "name": "ipython",
    "version": 3
   },
   "file_extension": ".py",
   "mimetype": "text/x-python",
   "name": "python",
   "nbconvert_exporter": "python",
   "pygments_lexer": "ipython3",
   "version": "3.9.12"
  }
 },
 "nbformat": 4,
 "nbformat_minor": 4
}
