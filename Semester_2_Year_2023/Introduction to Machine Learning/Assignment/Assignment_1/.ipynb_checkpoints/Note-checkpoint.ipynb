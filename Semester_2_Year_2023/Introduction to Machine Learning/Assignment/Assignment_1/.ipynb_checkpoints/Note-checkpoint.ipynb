{
 "cells": [
  {
   "cell_type": "code",
   "execution_count": 91,
   "id": "bc1e7b3a-241d-4d92-aa3b-f791f7bc86c9",
   "metadata": {},
   "outputs": [],
   "source": [
    "def gaussian_elim(X):\n",
    "    # Convert the input matrix to float64\n",
    "    A = np.array(X, dtype=np.float64)\n",
    "    \n",
    "    rows, cols = A.shape\n",
    "    for c in range(cols):\n",
    "        # Find the pivot row\n",
    "        pivot_row = None\n",
    "        for r in range(c, rows):\n",
    "            if A[r, c] != 0:\n",
    "                pivot_row = r\n",
    "                break\n",
    "\n",
    "        # If no pivot found, continue to next column\n",
    "        if pivot_row is None:\n",
    "            continue\n",
    "\n",
    "        # Swap pivot row with current row\n",
    "        A[[c, pivot_row]] = A[[pivot_row, c]]\n",
    "\n",
    "        # Normalize pivot row\n",
    "        A[c] = A[c] / A[c, c]\n",
    "\n",
    "        # Eliminate other rows\n",
    "        for r in range(rows):\n",
    "            if r != c:\n",
    "                A[r] = A[r] - A[r, c] * A[c]\n",
    "\n",
    "    # Handle negative zeros\n",
    "    A[A == -0] = 0\n",
    "\n",
    "    return A\n",
    "\n",
    "def solve_homogeneous(A):\n",
    "    \n",
    "    # Convert to identity\n",
    "    A = gaussian_elim(A)\n",
    "    rows, cols = A.shape\n",
    "    \n",
    "    # check if it is Identity\n",
    "    isIdentity = True\n",
    "    for col in range(A.shape[1]):\n",
    "        for row in range(A.shape[0]):\n",
    "            if(col == row):\n",
    "                if(A[row,col] != 1):\n",
    "                    isIdentity = False\n",
    "            else:\n",
    "                if(A[row,col] != 0):\n",
    "                    isIdentity = False\n",
    "                    \n",
    "    if(isIdentity):\n",
    "        return int(0)\n",
    "    \n",
    "    else:\n",
    "         # Find a non-trivial solution by setting free variables\n",
    "        solution1 = np.zeros(cols)\n",
    "        solution2 = np.zeros(cols)\n",
    "        \n",
    "        # Set values for free variables and compute corresponding dependent variables\n",
    "        for i in range(cols):\n",
    "            if i < rows and A[i, i] == 1:\n",
    "                continue  # Skip pivot variables\n",
    "            solution1[i] = 1\n",
    "            solution2[i] = 2\n",
    "            for j in range(rows):\n",
    "                solution1[j] -= A[j, i]\n",
    "                solution2[j] -= 2 * A[j, i]\n",
    "\n",
    "        return (solution1[np.newaxis, :], solution2[np.newaxis, :])\n"
   ]
  },
  {
   "cell_type": "code",
   "execution_count": 136,
   "id": "5d50517b-bfd6-4d0f-b6d8-768eb53f97ba",
   "metadata": {},
   "outputs": [
    {
     "name": "stdout",
     "output_type": "stream",
     "text": [
      "[[1. 2. 3.]\n",
      " [0. 0. 0.]]\n",
      "(array([[-5.,  1.,  1.]]), array([[-10.,   2.,   2.]]))\n"
     ]
    }
   ],
   "source": [
    "import numpy as np\n",
    "\n",
    "# only trivial answer x = 0\n",
    "A = np.array([[2,1,1],\n",
    "              [3,2,-3],\n",
    "              [0,7,-3]])\n",
    "\n",
    "# multiple answer\n",
    "\n",
    "# multiple answer\n",
    "A = np.array([[2,4],\n",
    "              [1,2]])\n",
    "\n",
    "A = np.array([[ 8, 18, 18],\n",
    "               [14, 19, 15],\n",
    "               [4,  9,  9]])\n",
    "\n",
    "\n",
    "A = np.array([[1,1,4],\n",
    "              [2,-1,-1],\n",
    "              [5,-1,2]])\n",
    "\n",
    "\n",
    "A = np.array([[1,2,3],\n",
    "              [1,2,3]])\n",
    "\n",
    "A = gaussian_elim(A)\n",
    "print(A)\n",
    "\n",
    "print(solve_homogeneous(A))\n"
   ]
  },
  {
   "cell_type": "code",
   "execution_count": 137,
   "id": "132fd614-583c-48f2-b5ad-cdbbfeb9046b",
   "metadata": {},
   "outputs": [],
   "source": [
    " x1 = np.expand_dims(solve_homogeneous(A)[0], axis=1)\n",
    " x2 = np.expand_dims(solve_homogeneous(A)[1], axis=1)\n"
   ]
  },
  {
   "cell_type": "code",
   "execution_count": 138,
   "id": "25ad5278-4c66-4e4c-84bb-6d4e980aa8e5",
   "metadata": {},
   "outputs": [
    {
     "name": "stdout",
     "output_type": "stream",
     "text": [
      "This is x1\n",
      "(1, 1, 3)\n",
      "This is A\n",
      "(2, 3)\n"
     ]
    }
   ],
   "source": [
    "\n",
    "\n",
    "print(\"This is x1\")\n",
    "print(x1.shape)\n",
    "\n",
    "print(\"This is A\")\n",
    "print(A.shape)\n",
    "\n",
    "\n",
    "\n",
    "#if abs(np.sum(A @ x1)) > 1e-6 or abs(np.sum(A @ x2)) > 1e-6 or (x1==x2).all():\n",
    "    \n"
   ]
  },
  {
   "cell_type": "code",
   "execution_count": 135,
   "id": "2149f584-c081-4d0d-b782-92490ec24664",
   "metadata": {},
   "outputs": [
    {
     "name": "stdout",
     "output_type": "stream",
     "text": [
      "Full Rank: False\n",
      "Has Zero Row: True\n"
     ]
    }
   ],
   "source": [
    "import numpy as np\n",
    "\n",
    "def check_rank_and_zero_rows(A):\n",
    "    # Check for rows of all zeros\n",
    "    has_zero_row = any(np.all(row == 0) for row in A)\n",
    "    \n",
    "    # Check for full rank by comparing the rank of A to the number of rows\n",
    "    full_rank = np.linalg.matrix_rank(A) == A.shape[0]\n",
    "\n",
    "    return full_rank, has_zero_row\n",
    "\n",
    "# Example usage\n",
    "A = np.array([[1, 2, 3],\n",
    "              [0, 0, 0],\n",
    "              [4, 5, 6]])\n",
    "\n",
    "full_rank, has_zero_row = check_rank_and_zero_rows(A)\n",
    "print(\"Full Rank:\", full_rank)  # Output will be False\n",
    "print(\"Has Zero Row:\", has_zero_row)  # Output will be True\n"
   ]
  },
  {
   "cell_type": "code",
   "execution_count": null,
   "id": "e733a17e-edb7-412a-a8fc-a043019deb82",
   "metadata": {},
   "outputs": [],
   "source": []
  }
 ],
 "metadata": {
  "kernelspec": {
   "display_name": "Python 3 (ipykernel)",
   "language": "python",
   "name": "python3"
  },
  "language_info": {
   "codemirror_mode": {
    "name": "ipython",
    "version": 3
   },
   "file_extension": ".py",
   "mimetype": "text/x-python",
   "name": "python",
   "nbconvert_exporter": "python",
   "pygments_lexer": "ipython3",
   "version": "3.9.12"
  }
 },
 "nbformat": 4,
 "nbformat_minor": 5
}
