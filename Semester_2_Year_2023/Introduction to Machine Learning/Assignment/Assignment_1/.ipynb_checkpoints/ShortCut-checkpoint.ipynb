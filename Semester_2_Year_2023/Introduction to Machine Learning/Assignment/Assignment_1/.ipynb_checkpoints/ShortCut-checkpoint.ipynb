{
 "cells": [
  {
   "cell_type": "code",
   "execution_count": 1,
   "id": "efa0dcf4-e8d3-4fb0-b32c-2bff8ba7edb5",
   "metadata": {},
   "outputs": [
    {
     "name": "stdout",
     "output_type": "stream",
     "text": [
      "Requirement already satisfied: nbconvert in /Users/nanthawat/opt/anaconda3/lib/python3.9/site-packages (6.4.4)\n",
      "Requirement already satisfied: jinja2>=2.4 in /Users/nanthawat/opt/anaconda3/lib/python3.9/site-packages (from nbconvert) (2.11.3)\n",
      "Requirement already satisfied: entrypoints>=0.2.2 in /Users/nanthawat/opt/anaconda3/lib/python3.9/site-packages (from nbconvert) (0.4)\n",
      "Requirement already satisfied: bleach in /Users/nanthawat/opt/anaconda3/lib/python3.9/site-packages (from nbconvert) (4.1.0)\n",
      "Requirement already satisfied: pandocfilters>=1.4.1 in /Users/nanthawat/opt/anaconda3/lib/python3.9/site-packages (from nbconvert) (1.5.0)\n",
      "Requirement already satisfied: mistune<2,>=0.8.1 in /Users/nanthawat/opt/anaconda3/lib/python3.9/site-packages (from nbconvert) (0.8.4)\n",
      "Requirement already satisfied: pygments>=2.4.1 in /Users/nanthawat/opt/anaconda3/lib/python3.9/site-packages (from nbconvert) (2.11.2)\n",
      "Requirement already satisfied: nbformat>=4.4 in /Users/nanthawat/opt/anaconda3/lib/python3.9/site-packages (from nbconvert) (5.7.0)\n",
      "Requirement already satisfied: beautifulsoup4 in /Users/nanthawat/opt/anaconda3/lib/python3.9/site-packages (from nbconvert) (4.11.1)\n",
      "Requirement already satisfied: nbclient<0.6.0,>=0.5.0 in /Users/nanthawat/opt/anaconda3/lib/python3.9/site-packages (from nbconvert) (0.5.13)\n",
      "Requirement already satisfied: traitlets>=5.0 in /Users/nanthawat/opt/anaconda3/lib/python3.9/site-packages (from nbconvert) (5.7.1)\n",
      "Requirement already satisfied: jupyter-core in /Users/nanthawat/opt/anaconda3/lib/python3.9/site-packages (from nbconvert) (5.2.0)\n",
      "Requirement already satisfied: defusedxml in /Users/nanthawat/opt/anaconda3/lib/python3.9/site-packages (from nbconvert) (0.7.1)\n",
      "Requirement already satisfied: jupyterlab-pygments in /Users/nanthawat/opt/anaconda3/lib/python3.9/site-packages (from nbconvert) (0.1.2)\n",
      "Requirement already satisfied: testpath in /Users/nanthawat/opt/anaconda3/lib/python3.9/site-packages (from nbconvert) (0.6.0)\n",
      "Requirement already satisfied: MarkupSafe>=0.23 in /Users/nanthawat/opt/anaconda3/lib/python3.9/site-packages (from jinja2>=2.4->nbconvert) (2.0.1)\n",
      "Requirement already satisfied: jupyter-client>=6.1.5 in /Users/nanthawat/opt/anaconda3/lib/python3.9/site-packages (from nbclient<0.6.0,>=0.5.0->nbconvert) (7.4.9)\n",
      "Requirement already satisfied: nest-asyncio in /Users/nanthawat/opt/anaconda3/lib/python3.9/site-packages (from nbclient<0.6.0,>=0.5.0->nbconvert) (1.5.6)\n",
      "Requirement already satisfied: fastjsonschema in /Users/nanthawat/opt/anaconda3/lib/python3.9/site-packages (from nbformat>=4.4->nbconvert) (2.16.2)\n",
      "Requirement already satisfied: jsonschema>=2.6 in /Users/nanthawat/opt/anaconda3/lib/python3.9/site-packages (from nbformat>=4.4->nbconvert) (4.17.3)\n",
      "Requirement already satisfied: soupsieve>1.2 in /Users/nanthawat/opt/anaconda3/lib/python3.9/site-packages (from beautifulsoup4->nbconvert) (2.3.2.post1)\n",
      "Requirement already satisfied: six>=1.9.0 in /Users/nanthawat/opt/anaconda3/lib/python3.9/site-packages (from bleach->nbconvert) (1.16.0)\n",
      "Requirement already satisfied: packaging in /Users/nanthawat/opt/anaconda3/lib/python3.9/site-packages (from bleach->nbconvert) (22.0)\n",
      "Requirement already satisfied: webencodings in /Users/nanthawat/opt/anaconda3/lib/python3.9/site-packages (from bleach->nbconvert) (0.5.1)\n",
      "Requirement already satisfied: platformdirs>=2.5 in /Users/nanthawat/opt/anaconda3/lib/python3.9/site-packages (from jupyter-core->nbconvert) (2.5.2)\n",
      "Requirement already satisfied: attrs>=17.4.0 in /Users/nanthawat/opt/anaconda3/lib/python3.9/site-packages (from jsonschema>=2.6->nbformat>=4.4->nbconvert) (22.1.0)\n",
      "Requirement already satisfied: pyrsistent!=0.17.0,!=0.17.1,!=0.17.2,>=0.14.0 in /Users/nanthawat/opt/anaconda3/lib/python3.9/site-packages (from jsonschema>=2.6->nbformat>=4.4->nbconvert) (0.18.0)\n",
      "Requirement already satisfied: pyzmq>=23.0 in /Users/nanthawat/opt/anaconda3/lib/python3.9/site-packages (from jupyter-client>=6.1.5->nbclient<0.6.0,>=0.5.0->nbconvert) (23.2.0)\n",
      "Requirement already satisfied: tornado>=6.2 in /Users/nanthawat/opt/anaconda3/lib/python3.9/site-packages (from jupyter-client>=6.1.5->nbclient<0.6.0,>=0.5.0->nbconvert) (6.2)\n",
      "Requirement already satisfied: python-dateutil>=2.8.2 in /Users/nanthawat/opt/anaconda3/lib/python3.9/site-packages (from jupyter-client>=6.1.5->nbclient<0.6.0,>=0.5.0->nbconvert) (2.8.2)\n"
     ]
    }
   ],
   "source": [
    "!pip install nbconvert"
   ]
  },
  {
   "cell_type": "markdown",
   "id": "b7b9ee62-141e-4101-9ada-368a92778121",
   "metadata": {},
   "source": [
    "# Export as pdf and html\n",
    "\n"
   ]
  },
  {
   "cell_type": "code",
   "execution_count": null,
   "id": "ade8e582-7eb8-4eab-bea3-c2cce65d1f16",
   "metadata": {},
   "outputs": [],
   "source": [
    "# html\n",
    "import plotly.io as pio\n",
    "pio.renderers.default = ’notebook'\n",
    "\n",
    "# pdf\n",
    "!pip install Pyppeteer\n",
    "!pyppeteer-install\n"
   ]
  },
  {
   "cell_type": "code",
   "execution_count": null,
   "id": "7df70d8b-2f62-4ca1-baf1-63944da50dd9",
   "metadata": {},
   "outputs": [],
   "source": [
    "# pdf\n",
    "import pandas as pd\n",
    "import plotly.express as px\n",
    "!pip install Pyppeteer\n",
    "!pyppeteer-install\n"
   ]
  },
  {
   "cell_type": "markdown",
   "id": "be446a10-b73d-4eda-bac9-a1d4575b8fe9",
   "metadata": {},
   "source": [
    "# Shortcut\n",
    "\n",
    "\n",
    "Sure, here are some of the most commonly used keyboard shortcuts in Jupyter Notebook on a Mac:\n",
    "\n",
    "**Command Mode** (press `Esc` to enable)\n",
    "\n",
    "1. **Enter**: Enter edit mode\n",
    "2. **Shift-Enter**: Run cell, select below\n",
    "3. **Cmd-Enter**: Run selected cells\n",
    "4. **Option-Enter**: Run cell and insert below\n",
    "5. **Y**: Change cell to code\n",
    "6. **M**: Change cell to markdown\n",
    "7. **R**: Change cell to raw\n",
    "8. **A**: Insert cell above\n",
    "9. **B**: Insert cell below\n",
    "10. **X**: Cut selected cells\n",
    "11. **C**: Copy selected cells\n",
    "12. **V**: Paste cells below\n",
    "13. **Z**: Undo cell deletion\n",
    "14. **D, D** (press the key twice): Delete selected cells\n",
    "15. **Shift-M**: Merge selected cells, or current cell with cell below if only one cell is selected\n",
    "16. **I, I** (press the key twice): Interrupt kernel\n",
    "17. **0, 0** (press the key twice): Restart kernel\n",
    "\n",
    "**Edit Mode** (press `Enter` to enable)\n",
    "\n",
    "1. **Tab**: Code completion or indent\n",
    "2. **Shift-Tab**: Tooltip\n",
    "3. **Cmd-]**: Indent\n",
    "4. **Cmd-[**: Dedent\n",
    "5. **Cmd-A**: Select all\n",
    "6. **Cmd-Z**: Undo\n",
    "7. **Cmd-Shift-Z**: Redo\n",
    "8. **Cmd-Y**: Redo\n",
    "9. **Cmd-Up**: Go to cell start\n",
    "10. **Cmd-Down**: Go to cell end\n",
    "11. **Option-Left**: Go one word left\n",
    "12. **Option-Right**: Go one word right\n",
    "13. **Option-Delete**: Delete word before\n",
    "14. **Option-d**: Delete word after\n",
    "15. **Esc**: Command mode\n",
    "16. **Cmd-Shift-Minus**: Split cell\n",
    "17. **Cmd-S**: Save and checkpoint\n",
    "\n",
    "For a full list of shortcuts, you can navigate to `Help -> Keyboard Shortcuts` in the Jupyter Notebook toolbar."
   ]
  },
  {
   "cell_type": "code",
   "execution_count": null,
   "id": "418517f9-447d-4e25-8d39-744b65a4b22b",
   "metadata": {},
   "outputs": [],
   "source": [
    "\n"
   ]
  }
 ],
 "metadata": {
  "kernelspec": {
   "display_name": "Python 3 (ipykernel)",
   "language": "python",
   "name": "python3"
  },
  "language_info": {
   "codemirror_mode": {
    "name": "ipython",
    "version": 3
   },
   "file_extension": ".py",
   "mimetype": "text/x-python",
   "name": "python",
   "nbconvert_exporter": "python",
   "pygments_lexer": "ipython3",
   "version": "3.9.12"
  }
 },
 "nbformat": 4,
 "nbformat_minor": 5
}
