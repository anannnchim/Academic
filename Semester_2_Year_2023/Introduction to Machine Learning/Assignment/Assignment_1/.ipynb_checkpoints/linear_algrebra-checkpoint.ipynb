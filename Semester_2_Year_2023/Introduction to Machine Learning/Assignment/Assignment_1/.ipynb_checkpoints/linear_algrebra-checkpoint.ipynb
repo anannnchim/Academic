{
 "cells": [
  {
   "cell_type": "code",
   "execution_count": 2,
   "id": "0635f88d-5735-4338-8113-f00b311a0b33",
   "metadata": {},
   "outputs": [],
   "source": [
    "# Important lib\n",
    "import numpy as np\n",
    "\n",
    "# For print all\n",
    "from IPython.core.interactiveshell import InteractiveShell\n",
    "InteractiveShell.ast_node_interactivity =  \"all\"\n",
    "\n",
    "# LaTex\n",
    "# https://oeis.org/wiki/List_of_LaTeX_mathematical_symbols"
   ]
  },
  {
   "cell_type": "markdown",
   "id": "b584e844-edab-415f-a740-b8655f191a71",
   "metadata": {},
   "source": [
    "# L1 Linear Algrebra Overview\n"
   ]
  },
  {
   "cell_type": "markdown",
   "id": "c1d29196-b068-4095-a76d-6c99dbfc4282",
   "metadata": {},
   "source": [
    "## Represent Object: Matrix and Vector"
   ]
  },
  {
   "cell_type": "markdown",
   "id": "7f61ffce-0f52-42ab-bcc3-e459efea81e3",
   "metadata": {},
   "source": [
    "There are 4 ways to represent the system of linear equation:\n",
    "\n",
    "1. linear equation\n",
    "2. row picture\n",
    "3. column picture\n",
    "4. matrix picture\n",
    "\n",
    "\n"
   ]
  },
  {
   "cell_type": "markdown",
   "id": "320d9af4-526f-482f-acb5-e294cc4a9e46",
   "metadata": {},
   "source": [
    "\n",
    "## Operations\n",
    "1. Dot product\n",
    "2. Elimination\n",
    "3. Gauss Jordan Elimination"
   ]
  },
  {
   "cell_type": "markdown",
   "id": "2f090d9e-165e-410e-82c2-e4428573ab19",
   "metadata": {},
   "source": [
    "## Type of Matrix\n",
    " \n",
    "**Singular & Non singular Matrix**\n",
    "\n",
    "\n",
    "1) Singular/ Non-invertible \n",
    ": a matrix that its column vector are linearly dependent. The combinations don't fill the whole space. \n",
    "\n",
    "\n",
    "2) Non-singular / Invertible\n",
    ": a matrix that its column vectors are linearly independent. The combineations can fill the whole space.\n",
    "\n",
    "Condition: IFF:\n",
    "- rank = number of column\n",
    "- IF(Matrix is squre): $det(A) \\ne 0$ \n",
    "- RREF: contain no zero row. \n",
    "\n",
    "\n",
    "**Elimination Matrix**\n",
    "\n",
    "- matrix that transform $A$ to $U$ \n",
    "- e.g. $E_{21}$ : mean convert $x_{ij}$ number in position $x_{2,1}$ to $0$\n",
    "- meaning that: $R2 = R2 + - 3R1$\n",
    "\n",
    "$$E_{2,1} = \n",
    "\\begin{bmatrix}\n",
    "1 & 0 & 0\\\\\n",
    "-3 & 1 & 0 \\\\\n",
    "0 & 0 & 1 \\\\\n",
    "\\end{bmatrix}\n",
    "$$\n",
    "\n",
    "\n",
    "**Identity matrix**\n",
    "$$ I = \n",
    "\\begin{bmatrix}\n",
    "1 & 0 & 0\\\\\n",
    "0 & 1 & 0 \\\\\n",
    "0 & 0 & 1 \\\\\n",
    "\\end{bmatrix}\n",
    "$$\n",
    "\n",
    "\n",
    "\n",
    "**Permutation Matrix**\n",
    "\n",
    "- matrix that use in multiplication for row/column swapping. \n",
    "- left multiply is row exchange and vice versa.\n",
    "\n",
    "- e.g. $PA = A'$ : swap $R2$ and $R1$\n",
    "$$ P = \n",
    "\\begin{bmatrix}\n",
    "0 & 1 & 0 \\\\\n",
    "1 & 0 & 0 \\\\\n",
    "0 & 0 & 1 \\\\\n",
    "\\end{bmatrix} \n",
    "$$\n",
    "\n",
    "**Triangular Matrix**\n",
    "a type of squared matrix that has zero on non-diagonal "
   ]
  },
  {
   "cell_type": "markdown",
   "id": "ce39bc52-8480-4955-af6b-826e4823f0a7",
   "metadata": {},
   "source": [
    "# L2. Overview of key idea\n",
    "\n",
    "Concept: Vector -> Matrix -> subspace\n",
    "\n",
    "1. Vector\n",
    "2. Matrix is a combination of vector column times scalar.\n",
    "3. Basis for $R^n$ is a collection of indepentent vector in $R^n$   ( or a set of vector that has two properties: 1. spanning 2. Linear independent)\n",
    "\n",
    "Example:\n",
    "vector $(u, v, w)$ forms the basis of $R^n$ IFF all vectors are linearly independent and we can get the entire space of $R^3$ by linear combination between them.\n",
    "\n",
    "4. Vector Space\n",
    "- a collection of vectors that is closed under linear combination.\n",
    "\n",
    "5. Vector subspace\n",
    "- a vector space inside vector space. Smallest subspace is a zero vector. Maximum vector subspace is equal to vector space.\n",
    "\n",
    "6. Subspace in $R^3$ (and Dimension)\n",
    "- 3 Dim = all of $R^3$ (whole space)\n",
    "- 2 Dim = a plane that go throguh origin\n",
    "- 1 Dim = a line that go throguh origin\n",
    "- 0 Dim = a origin point\n"
   ]
  },
  {
   "cell_type": "markdown",
   "id": "cc26ed8f-be75-4b9c-8284-ae7acbae4ae4",
   "metadata": {},
   "source": [
    "## Solving Equation"
   ]
  },
  {
   "cell_type": "markdown",
   "id": "8ca32895-7271-4e2e-ab93-0b17be245b6b",
   "metadata": {},
   "source": [
    "Think about what matrix $A$ transform vector $x$ to be vector $b$\n",
    "\n",
    "Normal form: $Ax = b$\n",
    "- Then $x = b \\div A$ or $x =  A^-1 \\cdot b$\n",
    "- Where solution $x$ can be written as: $x_p + cx_s$\n",
    "\n",
    "\n",
    "There are two case to solve $Ax = b$\n",
    "\n",
    "Case 1: Matrix $A$ is invertible"
   ]
  },
  {
   "cell_type": "markdown",
   "id": "b235bf75-adc3-41c7-9eca-af7f8a38dbb2",
   "metadata": {},
   "source": [
    "## Type of Equation"
   ]
  },
  {
   "cell_type": "markdown",
   "id": "7a0f36d4-5b40-4916-bab3-d68ce4dcee78",
   "metadata": {},
   "source": [
    "### 1. Homogeneous $Ax = 0$\n",
    "\n",
    "**Invertible matrix**\n",
    "- has only trivial solution which is zero vector\n",
    "\n",
    "**Non-Invertible Matrix**\n",
    "- has trivial solution and other many infinite solution\n",
    "\n",
    "### 2. Non-Homogenous $Ax = b$\n",
    "\n",
    "**Invertible matrix**\n",
    "- has a unique solution.\n",
    "\n",
    "**Non-Invertible Matrix**\n",
    "- consistent: infinite solution\n",
    "- non-consistent: no solution"
   ]
  },
  {
   "cell_type": "markdown",
   "id": "f868753a-9f67-4b2a-9350-374ce6aab6c6",
   "metadata": {},
   "source": [
    "# Computation Example"
   ]
  },
  {
   "cell_type": "markdown",
   "id": "39d0389e-c245-4e82-8ce5-f809ba977108",
   "metadata": {},
   "source": [
    "\n",
    "##### Example\n",
    "\n",
    "\\\n",
    "\\begin{align*}\n",
    "2x - y & = 0 \\\\\n",
    "-x + 2y & = 3\n",
    "\\end{align*}\n"
   ]
  },
  {
   "cell_type": "code",
   "execution_count": 5,
   "id": "f9c826f4-4dc2-4893-9ddf-37ba32630367",
   "metadata": {},
   "outputs": [
    {
     "data": {
      "text/plain": [
       "'Print Output'"
      ]
     },
     "execution_count": 5,
     "metadata": {},
     "output_type": "execute_result"
    },
    {
     "data": {
      "text/plain": [
       "array([[ 2, -1],\n",
       "       [-1,  2]])"
      ]
     },
     "execution_count": 5,
     "metadata": {},
     "output_type": "execute_result"
    },
    {
     "data": {
      "text/plain": [
       "array([0, 3])"
      ]
     },
     "execution_count": 5,
     "metadata": {},
     "output_type": "execute_result"
    },
    {
     "data": {
      "text/plain": [
       "'Solution'"
      ]
     },
     "execution_count": 5,
     "metadata": {},
     "output_type": "execute_result"
    },
    {
     "data": {
      "text/plain": [
       "array([1., 2.])"
      ]
     },
     "execution_count": 5,
     "metadata": {},
     "output_type": "execute_result"
    }
   ],
   "source": [
    "### Example\n",
    "\n",
    "A = np.array([[2,-1],\n",
    "              [-1,2]])\n",
    "b = np.array([0,3])\n",
    "\n",
    "\"Print Output\" ; A ;b \n",
    "\n",
    "# Solve \n",
    "'Solution'\n",
    "x = np.linalg.solve(A,b) ; x\n"
   ]
  },
  {
   "cell_type": "markdown",
   "id": "5c0519c0-af7a-4212-a1c7-9e198df33dba",
   "metadata": {},
   "source": [
    "## Check if matrix is independent?"
   ]
  },
  {
   "cell_type": "code",
   "execution_count": 4,
   "id": "d6a50896-fa35-4c3e-932b-feb20b9a2b06",
   "metadata": {},
   "outputs": [
    {
     "name": "stdout",
     "output_type": "stream",
     "text": [
      "The columns of the matrix are linearly dependent.\n"
     ]
    }
   ],
   "source": [
    "def is_independent(A):\n",
    "    rank = np.linalg.matrix_rank(A)\n",
    "    return rank == A.shape[1]\n",
    "\n",
    "A = np.array([[1, 2, 3],\n",
    "              [4, 5, 6],\n",
    "              [7, 8, 9]])\n",
    "\n",
    "if is_independent(A):\n",
    "    print(\"The columns of the matrix are linearly independent.\")\n",
    "else:\n",
    "    print(\"The columns of the matrix are linearly dependent.\")"
   ]
  },
  {
   "cell_type": "markdown",
   "id": "22219283-8bcc-47c0-b6e5-89539aeabf9a",
   "metadata": {},
   "source": [
    "\n",
    "\n",
    "\\begin{bmatrix}\n",
    "a & b \\\\\n",
    "c & d \\\\\n",
    "\\end{bmatrix}\n"
   ]
  },
  {
   "cell_type": "code",
   "execution_count": null,
   "id": "7865a304-6af7-496a-b65c-71d7268b2901",
   "metadata": {},
   "outputs": [],
   "source": []
  }
 ],
 "metadata": {
  "kernelspec": {
   "display_name": "Python 3 (ipykernel)",
   "language": "python",
   "name": "python3"
  },
  "language_info": {
   "codemirror_mode": {
    "name": "ipython",
    "version": 3
   },
   "file_extension": ".py",
   "mimetype": "text/x-python",
   "name": "python",
   "nbconvert_exporter": "python",
   "pygments_lexer": "ipython3",
   "version": "3.9.12"
  }
 },
 "nbformat": 4,
 "nbformat_minor": 5
}
