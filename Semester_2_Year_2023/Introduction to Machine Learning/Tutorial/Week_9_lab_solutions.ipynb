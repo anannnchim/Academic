{
 "cells": [
  {
   "cell_type": "markdown",
   "metadata": {},
   "source": [
    "**COMP3670/6670 Tutorial Week 9 - Linear regression and GMMs**\n",
    "---"
   ]
  },
  {
   "cell_type": "code",
   "execution_count": 4,
   "metadata": {},
   "outputs": [],
   "source": [
    "import numpy as np\n",
    "from scipy.stats import multivariate_normal\n",
    "from scipy.special import logsumexp\n",
    "import matplotlib.pyplot as plt"
   ]
  },
  {
   "cell_type": "markdown",
   "metadata": {},
   "source": [
    "Regression and gradient descent are pillars in machine learning. The first part of this tutorial to go over the lecture slides in linear regression and gradient descent.  \n",
    "\n",
    "1. Ensure you understand (stochastic) gradient desent.\n",
    "2. Ensure you could can derive the gradient of the least squares objective. \n",
    "\n",
    "Once that's all done, revisit GMMs and the EM algorithm."
   ]
  },
  {
   "cell_type": "markdown",
   "metadata": {},
   "source": [
    "\n",
    "\n",
    "-----------\n",
    "\n",
    "   **TASK 1: linear regression with gradient descent.** \n",
    "   \n",
    "   1. Randomly generate a matrix $X \\in \\mathbb{R}^{N \\times D}$, where each row of $X$ is a training example.\n",
    "   2. Choose a vector $t \\in \\mathbb{R}^{D \\times 1}$.\n",
    "   3. Generate $Y$ by $Xt = Y$.\n",
    "   4. Then generate a random matrix $\\theta \\in \\mathbb{R}^{D \\times 1}$.\n",
    "   5. Implement gradient descent to find the maximum likelihood estimate $\\theta$.\n",
    "   6. Check your gradient descent algorithm correctly approximated $t$. Talk to your classmates and tutor to make sure if you're unsure.\n",
    "   7. Verify your answer with the closed form solution employing the Moore-Penrose inverse.\n",
    "   \n",
    "Note that in the above we're essentially pretending we don't know $t$. Obviously, if we have $t$, linear regression with gradient descent would be unnecessary, but the point is to help you understand what gradient descent is doing.\n",
    "\n",
    "Also note: we should use the squared loss function, computed as the square of the difference between the predicted function values and the observed function values (or ground truth). $D$ and $N$ can be any number you like, but be reasonable.\n",
    "\n",
    "\n",
    "-----------\n",
    " "
   ]
  },
  {
   "cell_type": "code",
   "execution_count": 5,
   "metadata": {},
   "outputs": [
    {
     "data": {
      "image/png": "[encoded data removed]",
      "text/plain": [
       "<Figure size 640x480 with 1 Axes>"
      ]
     },
     "metadata": {},
     "output_type": "display_data"
    },
    {
     "name": "stdout",
     "output_type": "stream",
     "text": [
      "Analytic Solution:\n",
      " [[0.78019251]\n",
      " [0.8932862 ]\n",
      " [1.41591275]]\n",
      "Gradient Descent Solution:\n",
      " [[0.77940242]\n",
      " [0.88730306]\n",
      " [1.40731152]]\n",
      "t:\n",
      " [[0.78019251]\n",
      " [0.8932862 ]\n",
      " [1.41591275]]\n"
     ]
    }
   ],
   "source": [
    "\n",
    "# YOUR CODE HERE.\n",
    "\n",
    "# set N, D\n",
    "N = 200\n",
    "D = 3\n",
    "\n",
    "# generate data\n",
    "X = np.random.randn(N, D)  # step 1\n",
    "t = np.random.randn(D, 1)  # step 2\n",
    "Y = X @ t # step 3\n",
    "theta = np.random.randn(D, 1)  # step 4\n",
    "\n",
    "# gradient descent \n",
    "epoch = 300 # number of steps\n",
    "lr = 0.01 # learning rate\n",
    "loss_trace = []\n",
    "for _ in range(epoch):\n",
    "    # for record\n",
    "    loss = (Y - X @ theta).T @ (Y - X @ theta) / N\n",
    "    loss_trace.append(loss.item())\n",
    "    \n",
    "    # update\n",
    "    gradient = (-2 * Y.T @ X + 2 * theta.T @ X.T @ X) / N\n",
    "    theta = theta - lr * gradient.T\n",
    "\n",
    "# plot\n",
    "plt.plot(loss_trace)\n",
    "plt.xlabel('epoch')\n",
    "plt.ylabel('loss')\n",
    "plt.show()\n",
    "\n",
    "# check\n",
    "theta_closed_form = np.linalg.inv(X.T @ X) @ X.T @ Y\n",
    "print(\"Analytic Solution:\\n\", theta_closed_form)\n",
    "print(\"Gradient Descent Solution:\\n\", theta)\n",
    "print(\"t:\\n\", t)\n"
   ]
  },
  {
   "cell_type": "markdown",
   "metadata": {},
   "source": [
    "-----------\n",
    "**Task 2:** We investigate various factors in linear regression \n",
    "\n",
    "1. noise. When collecting real-world data, it is common that there would be measurement noise included. Adding noise to your generated data and see how this would influence the parameter estimation. You can add noise by settting $Y=Xt+\\pmb\\epsilon$ where $\\epsilon_n \\sim \\mathcal{N}(\\mu,\\sigma^2)$.\n",
    "\n",
    "2. sample amount. Try to change the number of data points in your training set. That is changing the $N$ for $X \\in \\mathbb{R}^{N \\times D}$ and comparing the final loss fixing training epoch and learning rate. Now try to set N to be very large, how is the training time? What can we do?\n",
    "\n",
    "3. learning rate. How would the learning rate influence the convergence of the optimization process?\n",
    "\n",
    "-----------"
   ]
  },
  {
   "cell_type": "code",
   "execution_count": 6,
   "metadata": {},
   "outputs": [],
   "source": [
    "def gradient_descent(X, Y, epoch, lr):\n",
    "    N = X.shape[0]\n",
    "    theta = np.random.randn(X.shape[1], 1)  # parameter\n",
    "    loss = []\n",
    "    for _ in range(epoch):\n",
    "        loss.append(((Y - X @ theta).T @ (Y - X @ theta) / N).item())\n",
    "        theta = theta - lr * ((-2 * Y.T @ X + 2 * theta.T @ X.T @ X) / N).T # update\n",
    "    return theta, loss"
   ]
  },
  {
   "cell_type": "code",
   "execution_count": 7,
   "metadata": {},
   "outputs": [
    {
     "name": "stdout",
     "output_type": "stream",
     "text": [
      "Euclidean Distance:\n",
      "without noise\t 0.00012389388849212994\n",
      "noise\t\t 0.07114190331062689\n",
      "Gradient Descent Solution\n",
      "without noise：\n",
      " [[ 0.3647729 ]\n",
      " [-0.4840801 ]\n",
      " [-0.20782762]]\n",
      "with noise：\n",
      " [[ 0.36260589]\n",
      " [-0.43564271]\n",
      " [-0.15575356]]\n",
      "t:\n",
      " [[ 0.36488059]\n",
      " [-0.48402724]\n",
      " [-0.20785858]]\n"
     ]
    }
   ],
   "source": [
    "# noise\n",
    "N = 200\n",
    "D = 3\n",
    "X = np.random.randn(N, D)\n",
    "t = np.random.randn(D, 1)\n",
    "Y = X @ t\n",
    "Y_tilde = X @ t + np.random.randn(N,1)\n",
    "theta_1, _ = gradient_descent(X, Y, epoch=500, lr=0.01) # without noise\n",
    "theta_2, _ = gradient_descent(X, Y_tilde, epoch=500, lr=0.01) # with noise\n",
    "\n",
    "print(\"Euclidean Distance:\")\n",
    "print(\"without noise\\t\", np.linalg.norm(theta_1 - t))\n",
    "print(\"noise\\t\\t\", np.linalg.norm(theta_2 - t))\n",
    "print(\"Gradient Descent Solution\")\n",
    "print(\"without noise：\\n\", theta_1)\n",
    "print(\"with noise：\\n\", theta_2)\n",
    "print(\"t:\\n\", t)"
   ]
  },
  {
   "cell_type": "code",
   "execution_count": 8,
   "metadata": {},
   "outputs": [
    {
     "data": {
      "image/png": "[encoded data removed]",
      "text/plain": [
       "<Figure size 640x480 with 1 Axes>"
      ]
     },
     "metadata": {},
     "output_type": "display_data"
    }
   ],
   "source": [
    "# sample amount\n",
    "D = 3\n",
    "X = np.random.randn(100, D)\n",
    "Y = X @ np.random.randn(D, 1)\n",
    "\n",
    "# training\n",
    "all_loss_record = np.zeros(100-2)\n",
    "for i in range(10):\n",
    "    loss_record = []\n",
    "    for m in range(2, 100):\n",
    "        _,loss = gradient_descent(X[:m], Y[:m], epoch=500, lr=0.01)\n",
    "        loss_record.append(loss[-1])\n",
    "    all_loss_record += np.array(loss_record)\n",
    "# plot\n",
    "plt.plot(all_loss_record)\n",
    "plt.xlabel('sample amount')\n",
    "plt.ylabel('loss')\n",
    "plt.show()"
   ]
  },
  {
   "cell_type": "code",
   "execution_count": 9,
   "metadata": {},
   "outputs": [
    {
     "data": {
      "image/png": "[encoded data removed]",
      "text/plain": [
       "<Figure size 1500x500 with 2 Axes>"
      ]
     },
     "metadata": {},
     "output_type": "display_data"
    }
   ],
   "source": [
    "# learning rate\n",
    "N = 100\n",
    "D = 3\n",
    "X = np.random.randn(N, D)\n",
    "Y = X @ np.random.randn(D, 1)\n",
    "# training\n",
    "loss_record = {}\n",
    "for i in range(4):\n",
    "    lr = 1/10**i\n",
    "    _, loss = gradient_descent(X, Y, epoch=300, lr=lr)\n",
    "    loss_record[str(lr)] = np.array(loss)\n",
    "    \n",
    "# plot\n",
    "fig=plt.figure(figsize=(15,5))\n",
    "fig.add_subplot(121)\n",
    "for i in range(3):\n",
    "    lr = 0.1/10**i\n",
    "    plt.plot(loss_record[str(lr)], label='lr='+str(lr))\n",
    "plt.xlabel('epoch')\n",
    "plt.ylabel('loss')\n",
    "plt.legend()\n",
    "fig.add_subplot(122)\n",
    "plt.plot(loss_record[\"1.0\"], label='lr=1.0')\n",
    "plt.xlabel('epoch')\n",
    "plt.ylabel('loss')\n",
    "plt.legend()\n",
    "plt.show()"
   ]
  },
  {
   "cell_type": "markdown",
   "metadata": {},
   "source": [
    "-----------\n",
    "**Task 3:** GMMs - responsibility computation using logsumexp\n",
    "\n",
    "The E-step of parameter learning for GMMs computes the responsibility: $r_{nk} = \\frac{\\pi_k \\mathcal{N}(x_n; \\mu_k, \\Sigma_k)}{\\sum_{j=1}^K \\pi_j \\mathcal{N}(x_n; \\mu_j, \\Sigma_j)}$. Instead of doing the computation using the Gaussian densities, using the log densities and *logsumexp* is more numerically stable. In code, the responsibility can be computed as $r_{nk} = \\exp \\left( \\log \\pi_k + \\log \\mathcal{N}(x_n; \\mu_k, \\Sigma_k)  - \\text{logsumexp}_j \\left[ \\log \\pi_j + \\log \\mathcal{N}(x_n; \\mu_j, \\Sigma_j) \\right] \\right)$.\n",
    "\n",
    "1. Verify that the two expressions above are mathematically identical.\n",
    "2. We have implemented the first version below (first equation). Implement the version that uses logsumexp (second equation) and compare the results.\n",
    "-----------"
   ]
  },
  {
   "cell_type": "code",
   "execution_count": 12,
   "metadata": {},
   "outputs": [
    {
     "name": "stdout",
     "output_type": "stream",
     "text": [
      "[0.79293403 0.13413994 0.07292603] [0.79293403 0.13413994 0.07292603]\n",
      "[9.99999999e-01 5.31044282e-18 5.15288405e-10] [9.99999999e-01 5.31044282e-18 5.15288405e-10]\n",
      "[1.65597481e-07 4.26652311e-16 9.99999834e-01] [1.65597481e-07 4.26652311e-16 9.99999834e-01]\n",
      "[nan nan nan] [8.74855133e-148 2.09483834e-321 1.00000000e+000]\n"
     ]
    },
    {
     "name": "stderr",
     "output_type": "stream",
     "text": [
      "/var/folders/fj/f6bphbn90cz8c7py9xjvrfmw0000gn/T/ipykernel_2732/1475215184.py:6: RuntimeWarning: invalid value encountered in true_divide\n",
      "  res = pipdfs / denom\n"
     ]
    }
   ],
   "source": [
    "def compute_responsibility_v1(x, pis, mus, Sigmas):\n",
    "    K = len(pis)\n",
    "    pdfs = np.array([multivariate_normal.pdf(x[None, :], mean=mus[k, :], cov=Sigmas[k, :, :]) for k in range(K)])\n",
    "    pipdfs = pis * pdfs\n",
    "    denom = np.sum(pipdfs)\n",
    "    res = pipdfs / denom\n",
    "    return res\n",
    "\n",
    "# you can use scipy logsumexp function\n",
    "def compute_responsibility_v2(x, pis, mus, Sigmas):\n",
    "    K = len(pis)\n",
    "    logpdfs = np.array([multivariate_normal.logpdf(x[None, :], mean=mus[k, :], cov=Sigmas[k, :, :]) for k in range(K)])\n",
    "    logpi = np.log(pis)\n",
    "    logpin = logpi + logpdfs\n",
    "    denom = logsumexp(logpin, axis=0)\n",
    "    logres = logpin - denom\n",
    "    res = np.exp(logres)\n",
    "    return res\n",
    "\n",
    "# we consider two GMMs, each with 3 components, same weights and same means\n",
    "pis = np.array([0.4, 0.5, 0.1])\n",
    "mu_1 = np.array([-1, 1])\n",
    "mu_2 = np.array([1, 1])\n",
    "mu_3 = np.array([-2, 2])\n",
    "mus = np.array([mu_1, mu_2, mu_3])\n",
    "# and different covariances\n",
    "Sigmas_1 = np.array([np.eye(2) for k in range(3)])\n",
    "Sigmas_2 = np.array([0.05*np.eye(2) for k in range(3)])\n",
    "\n",
    "# we have two points that we want to compute the responsibilities\n",
    "x_1 = np.array([-1, 1])\n",
    "x_2 = np.array([-10, 10])\n",
    "\n",
    "# let's look at the first data point and Sigma_1\n",
    "r1 = compute_responsibility_v1(x_1, pis, mus, Sigmas_1)\n",
    "r2 = compute_responsibility_v2(x_1, pis, mus, Sigmas_1)\n",
    "print(r1, r2)\n",
    "\n",
    "# let's look at the first data point and Sigma_2\n",
    "r1 = compute_responsibility_v1(x_1, pis, mus, Sigmas_2)\n",
    "r2 = compute_responsibility_v2(x_1, pis, mus, Sigmas_2)\n",
    "print(r1, r2)\n",
    "\n",
    "\n",
    "# let's look at the second data point and Sigma_1\n",
    "r1 = compute_responsibility_v1(x_2, pis, mus, Sigmas_1)\n",
    "r2 = compute_responsibility_v2(x_2, pis, mus, Sigmas_1)\n",
    "print(r1, r2)\n",
    "\n",
    "\n",
    "# let's look at the second data point and Sigma_2\n",
    "r1 = compute_responsibility_v1(x_2, pis, mus, Sigmas_2)\n",
    "r2 = compute_responsibility_v2(x_2, pis, mus, Sigmas_2)\n",
    "print(r1, r2)\n",
    "\n",
    "# comment on the results!\n",
    "# [0.79293403 0.13413994 0.07292603] [0.79293403 0.13413994 0.07292603]\n",
    "# [9.99999999e-01 5.31044282e-18 5.15288405e-10] [9.99999999e-01 5.31044282e-18 5.15288405e-10]\n",
    "# [1.65597481e-07 4.26652311e-16 9.99999834e-01] [1.65597481e-07 4.26652311e-16 9.99999834e-01]\n",
    "# [nan nan nan] [8.74855133e-148 2.09483834e-321 1.00000000e+000]"
   ]
  },
  {
   "cell_type": "code",
   "execution_count": 32,
   "metadata": {},
   "outputs": [
    {
     "ename": "TypeError",
     "evalue": "'float' object is not subscriptable",
     "output_type": "error",
     "traceback": [
      "\u001b[0;31m---------------------------------------------------------------------------\u001b[0m",
      "\u001b[0;31mTypeError\u001b[0m                                 Traceback (most recent call last)",
      "\u001b[0;32m/var/folders/fj/f6bphbn90cz8c7py9xjvrfmw0000gn/T/ipykernel_2732/2134101792.py\u001b[0m in \u001b[0;36m<module>\u001b[0;34m\u001b[0m\n\u001b[1;32m      8\u001b[0m \u001b[0;34m\u001b[0m\u001b[0m\n\u001b[1;32m      9\u001b[0m \u001b[0;34m\u001b[0m\u001b[0m\n\u001b[0;32m---> 10\u001b[0;31m \u001b[0mlog_term\u001b[0m \u001b[0;34m=\u001b[0m \u001b[0mnp\u001b[0m\u001b[0;34m.\u001b[0m\u001b[0marray\u001b[0m\u001b[0;34m(\u001b[0m\u001b[0;34m[\u001b[0m\u001b[0mmultivariate_normal\u001b[0m\u001b[0;34m.\u001b[0m\u001b[0mlogpdf\u001b[0m\u001b[0;34m(\u001b[0m\u001b[0mx\u001b[0m\u001b[0;34m[\u001b[0m\u001b[0mn\u001b[0m\u001b[0;34m,\u001b[0m \u001b[0;34m:\u001b[0m\u001b[0;34m]\u001b[0m\u001b[0;34m,\u001b[0m \u001b[0mmean\u001b[0m\u001b[0;34m=\u001b[0m\u001b[0mmus\u001b[0m\u001b[0;34m[\u001b[0m\u001b[0mk\u001b[0m\u001b[0;34m,\u001b[0m \u001b[0;34m:\u001b[0m\u001b[0;34m]\u001b[0m\u001b[0;34m,\u001b[0m \u001b[0mcov\u001b[0m\u001b[0;34m=\u001b[0m\u001b[0mSigmas\u001b[0m\u001b[0;34m[\u001b[0m\u001b[0mk\u001b[0m\u001b[0;34m,\u001b[0m \u001b[0;34m:\u001b[0m\u001b[0;34m,\u001b[0m \u001b[0;34m:\u001b[0m\u001b[0;34m]\u001b[0m\u001b[0;34m)\u001b[0m \u001b[0;32mfor\u001b[0m \u001b[0mk\u001b[0m \u001b[0;32min\u001b[0m \u001b[0mrange\u001b[0m\u001b[0;34m(\u001b[0m\u001b[0mK\u001b[0m\u001b[0;34m)\u001b[0m\u001b[0;34m]\u001b[0m\u001b[0;34m)\u001b[0m\u001b[0;34m\u001b[0m\u001b[0;34m\u001b[0m\u001b[0m\n\u001b[0m",
      "\u001b[0;32m/var/folders/fj/f6bphbn90cz8c7py9xjvrfmw0000gn/T/ipykernel_2732/2134101792.py\u001b[0m in \u001b[0;36m<listcomp>\u001b[0;34m(.0)\u001b[0m\n\u001b[1;32m      8\u001b[0m \u001b[0;34m\u001b[0m\u001b[0m\n\u001b[1;32m      9\u001b[0m \u001b[0;34m\u001b[0m\u001b[0m\n\u001b[0;32m---> 10\u001b[0;31m \u001b[0mlog_term\u001b[0m \u001b[0;34m=\u001b[0m \u001b[0mnp\u001b[0m\u001b[0;34m.\u001b[0m\u001b[0marray\u001b[0m\u001b[0;34m(\u001b[0m\u001b[0;34m[\u001b[0m\u001b[0mmultivariate_normal\u001b[0m\u001b[0;34m.\u001b[0m\u001b[0mlogpdf\u001b[0m\u001b[0;34m(\u001b[0m\u001b[0mx\u001b[0m\u001b[0;34m[\u001b[0m\u001b[0mn\u001b[0m\u001b[0;34m,\u001b[0m \u001b[0;34m:\u001b[0m\u001b[0;34m]\u001b[0m\u001b[0;34m,\u001b[0m \u001b[0mmean\u001b[0m\u001b[0;34m=\u001b[0m\u001b[0mmus\u001b[0m\u001b[0;34m[\u001b[0m\u001b[0mk\u001b[0m\u001b[0;34m,\u001b[0m \u001b[0;34m:\u001b[0m\u001b[0;34m]\u001b[0m\u001b[0;34m,\u001b[0m \u001b[0mcov\u001b[0m\u001b[0;34m=\u001b[0m\u001b[0mSigmas\u001b[0m\u001b[0;34m[\u001b[0m\u001b[0mk\u001b[0m\u001b[0;34m,\u001b[0m \u001b[0;34m:\u001b[0m\u001b[0;34m,\u001b[0m \u001b[0;34m:\u001b[0m\u001b[0;34m]\u001b[0m\u001b[0;34m)\u001b[0m \u001b[0;32mfor\u001b[0m \u001b[0mk\u001b[0m \u001b[0;32min\u001b[0m \u001b[0mrange\u001b[0m\u001b[0;34m(\u001b[0m\u001b[0mK\u001b[0m\u001b[0;34m)\u001b[0m\u001b[0;34m]\u001b[0m\u001b[0;34m)\u001b[0m\u001b[0;34m\u001b[0m\u001b[0;34m\u001b[0m\u001b[0m\n\u001b[0m",
      "\u001b[0;31mTypeError\u001b[0m: 'float' object is not subscriptable"
     ]
    }
   ],
   "source": [
    "# Test data\n",
    "N = 3  # Number of data points\n",
    "D = 2  # Number of dimensions\n",
    "x_test = np.array([[1.0, 2.0], [1.5, 2.5], [2.0, 1.0]])\n",
    "mus_test = np.array([[0.0, 0.0], [2.0, 2.0]])\n",
    "Sigmas_test = np.array([[[1.0, 0.0], [0.0, 1.0]], [[1.0, 0.0], [0.0, 1.0]]])\n",
    "pis_test = np.array([0.4, 0.6])\n",
    "\n",
    "\n",
    "log_term = np.array([multivariate_normal.logpdf(x[N, :], mean=mus[k, :], cov=Sigmas[1, :, :]) for k in range(K)])\n"
   ]
  },
  {
   "cell_type": "code",
   "execution_count": 21,
   "metadata": {},
   "outputs": [
    {
     "data": {
      "text/plain": [
       "-8.111206107683362"
      ]
     },
     "execution_count": 21,
     "metadata": {},
     "output_type": "execute_result"
    }
   ],
   "source": [
    "# Implementing the function to compute the GMM log-likelihood\n",
    "def gmm_log_likelihood(x, mus, Sigmas, pis):\n",
    "    N, D = x.shape  # Number of data points and dimensions\n",
    "    K = len(pis)  # Number of Gaussian components\n",
    "    \n",
    "    log_likelihood = 0  # Initialize log-likelihood\n",
    "    \n",
    "    # Loop over each data point\n",
    "    for n in range(N):\n",
    "        log_term = np.array([multivariate_normal.logpdf(x[n, :], mean=mus[k, :], cov=Sigmas[k, :, :]) for k in range(K)])\n",
    "        log_term += np.log(pis)\n",
    "        log_sum_exp = logsumexp(log_term)\n",
    "        log_likelihood += log_sum_exp  # Accumulate log-likelihood\n",
    "        \n",
    "    return log_likelihood\n",
    "\n",
    "\n",
    "\n",
    "# Compute GMM log-likelihood\n",
    "log_likelihood_result = gmm_log_likelihood(x_test, mus_test, Sigmas_test, pis_test)\n",
    "log_likelihood_result\n",
    "\n"
   ]
  },
  {
   "cell_type": "code",
   "execution_count": 26,
   "metadata": {},
   "outputs": [
    {
     "ename": "TypeError",
     "evalue": "'float' object is not subscriptable",
     "output_type": "error",
     "traceback": [
      "\u001b[0;31m---------------------------------------------------------------------------\u001b[0m",
      "\u001b[0;31mTypeError\u001b[0m                                 Traceback (most recent call last)",
      "\u001b[0;32m/var/folders/fj/f6bphbn90cz8c7py9xjvrfmw0000gn/T/ipykernel_2732/899285173.py\u001b[0m in \u001b[0;36m<module>\u001b[0;34m\u001b[0m\n\u001b[1;32m      2\u001b[0m \u001b[0mx\u001b[0m \u001b[0;34m=\u001b[0m \u001b[0;36m1.0\u001b[0m\u001b[0;34m\u001b[0m\u001b[0;34m\u001b[0m\u001b[0m\n\u001b[1;32m      3\u001b[0m \u001b[0;34m\u001b[0m\u001b[0m\n\u001b[0;32m----> 4\u001b[0;31m \u001b[0mnp\u001b[0m\u001b[0;34m.\u001b[0m\u001b[0marray\u001b[0m\u001b[0;34m(\u001b[0m\u001b[0;34m[\u001b[0m\u001b[0mmultivariate_normal\u001b[0m\u001b[0;34m.\u001b[0m\u001b[0mlogpdf\u001b[0m\u001b[0;34m(\u001b[0m\u001b[0mx\u001b[0m\u001b[0;34m[\u001b[0m\u001b[0mn\u001b[0m\u001b[0;34m,\u001b[0m \u001b[0;34m:\u001b[0m\u001b[0;34m]\u001b[0m\u001b[0;34m,\u001b[0m \u001b[0mmean\u001b[0m\u001b[0;34m=\u001b[0m\u001b[0mmus\u001b[0m\u001b[0;34m[\u001b[0m\u001b[0mk\u001b[0m\u001b[0;34m,\u001b[0m \u001b[0;34m:\u001b[0m\u001b[0;34m]\u001b[0m\u001b[0;34m,\u001b[0m \u001b[0mcov\u001b[0m\u001b[0;34m=\u001b[0m\u001b[0mSigmas\u001b[0m\u001b[0;34m[\u001b[0m\u001b[0mk\u001b[0m\u001b[0;34m,\u001b[0m \u001b[0;34m:\u001b[0m\u001b[0;34m,\u001b[0m \u001b[0;34m:\u001b[0m\u001b[0;34m]\u001b[0m\u001b[0;34m)\u001b[0m \u001b[0;32mfor\u001b[0m \u001b[0mk\u001b[0m \u001b[0;32min\u001b[0m \u001b[0mrange\u001b[0m\u001b[0;34m(\u001b[0m\u001b[0mK\u001b[0m\u001b[0;34m)\u001b[0m\u001b[0;34m]\u001b[0m\u001b[0;34m)\u001b[0m\u001b[0;34m\u001b[0m\u001b[0;34m\u001b[0m\u001b[0m\n\u001b[0m",
      "\u001b[0;32m/var/folders/fj/f6bphbn90cz8c7py9xjvrfmw0000gn/T/ipykernel_2732/899285173.py\u001b[0m in \u001b[0;36m<listcomp>\u001b[0;34m(.0)\u001b[0m\n\u001b[1;32m      2\u001b[0m \u001b[0mx\u001b[0m \u001b[0;34m=\u001b[0m \u001b[0;36m1.0\u001b[0m\u001b[0;34m\u001b[0m\u001b[0;34m\u001b[0m\u001b[0m\n\u001b[1;32m      3\u001b[0m \u001b[0;34m\u001b[0m\u001b[0m\n\u001b[0;32m----> 4\u001b[0;31m \u001b[0mnp\u001b[0m\u001b[0;34m.\u001b[0m\u001b[0marray\u001b[0m\u001b[0;34m(\u001b[0m\u001b[0;34m[\u001b[0m\u001b[0mmultivariate_normal\u001b[0m\u001b[0;34m.\u001b[0m\u001b[0mlogpdf\u001b[0m\u001b[0;34m(\u001b[0m\u001b[0mx\u001b[0m\u001b[0;34m[\u001b[0m\u001b[0mn\u001b[0m\u001b[0;34m,\u001b[0m \u001b[0;34m:\u001b[0m\u001b[0;34m]\u001b[0m\u001b[0;34m,\u001b[0m \u001b[0mmean\u001b[0m\u001b[0;34m=\u001b[0m\u001b[0mmus\u001b[0m\u001b[0;34m[\u001b[0m\u001b[0mk\u001b[0m\u001b[0;34m,\u001b[0m \u001b[0;34m:\u001b[0m\u001b[0;34m]\u001b[0m\u001b[0;34m,\u001b[0m \u001b[0mcov\u001b[0m\u001b[0;34m=\u001b[0m\u001b[0mSigmas\u001b[0m\u001b[0;34m[\u001b[0m\u001b[0mk\u001b[0m\u001b[0;34m,\u001b[0m \u001b[0;34m:\u001b[0m\u001b[0;34m,\u001b[0m \u001b[0;34m:\u001b[0m\u001b[0;34m]\u001b[0m\u001b[0;34m)\u001b[0m \u001b[0;32mfor\u001b[0m \u001b[0mk\u001b[0m \u001b[0;32min\u001b[0m \u001b[0mrange\u001b[0m\u001b[0;34m(\u001b[0m\u001b[0mK\u001b[0m\u001b[0;34m)\u001b[0m\u001b[0;34m]\u001b[0m\u001b[0;34m)\u001b[0m\u001b[0;34m\u001b[0m\u001b[0;34m\u001b[0m\u001b[0m\n\u001b[0m",
      "\u001b[0;31mTypeError\u001b[0m: 'float' object is not subscriptable"
     ]
    }
   ],
   "source": [
    "\n",
    "np.array([multivariate_normal.logpdf(x[n, :], mean=mus[k, :], cov=Sigmas[k, :, :]) for k in range(K)])"
   ]
  },
  {
   "cell_type": "code",
   "execution_count": 27,
   "metadata": {},
   "outputs": [
    {
     "ename": "TypeError",
     "evalue": "logpdf() missing 1 required positional argument: 'x'",
     "output_type": "error",
     "traceback": [
      "\u001b[0;31m---------------------------------------------------------------------------\u001b[0m",
      "\u001b[0;31mTypeError\u001b[0m                                 Traceback (most recent call last)",
      "\u001b[0;32m/var/folders/fj/f6bphbn90cz8c7py9xjvrfmw0000gn/T/ipykernel_2732/2946049808.py\u001b[0m in \u001b[0;36m<module>\u001b[0;34m\u001b[0m\n\u001b[0;32m----> 1\u001b[0;31m \u001b[0mmultivariate_normal\u001b[0m\u001b[0;34m.\u001b[0m\u001b[0mlogpdf\u001b[0m\u001b[0;34m(\u001b[0m\u001b[0;34m)\u001b[0m\u001b[0;34m\u001b[0m\u001b[0;34m\u001b[0m\u001b[0m\n\u001b[0m",
      "\u001b[0;31mTypeError\u001b[0m: logpdf() missing 1 required positional argument: 'x'"
     ]
    }
   ],
   "source": []
  },
  {
   "cell_type": "code",
   "execution_count": 31,
   "metadata": {},
   "outputs": [
    {
     "data": {
      "text/plain": [
       "[-8.111206107683362,\n",
       " -8.288392836251811,\n",
       " -8.435631579304584,\n",
       " -8.553595011104026,\n",
       " -8.646618430667]"
      ]
     },
     "execution_count": 31,
     "metadata": {},
     "output_type": "execute_result"
    }
   ],
   "source": [
    "# Initialize variables for storing the log-likelihood at each iteration\n",
    "log_likelihood_iterations = []\n",
    "\n",
    "# Number of iterations for demonstration\n",
    "num_iterations = 5\n",
    "\n",
    "# Parameters for EM (for demonstration, not optimized)\n",
    "mus_iter = np.array([[0.0, 0.0], [2.0, 2.0]])\n",
    "Sigmas_iter = np.array([[[1.0, 0.0], [0.0, 1.0]], [[1.0, 0.0], [0.0, 1.0]]])\n",
    "pis_iter = np.array([0.4, 0.6])\n",
    "\n",
    "# Simulate iterations (Note: Here, we are not actually updating the parameters using EM for simplicity)\n",
    "for i in range(num_iterations):\n",
    "    log_likelihood_result = gmm_log_likelihood(x_test, mus_iter, Sigmas_iter, pis_iter)\n",
    "    log_likelihood_iterations.append(log_likelihood_result)\n",
    "\n",
    "    # Simulated updates to mus, Sigmas, and pis (For demonstration purposes only, not actual EM updates)\n",
    "    mus_iter += 0.1\n",
    "    Sigmas_iter += 0.05\n",
    "    pis_iter = np.array([0.4, 0.6])  # Keeping pis constant for simplicity\n",
    "\n",
    "log_likelihood_iterations"
   ]
  },
  {
   "cell_type": "code",
   "execution_count": 33,
   "metadata": {},
   "outputs": [
    {
     "data": {
      "text/plain": [
       "array([-4.33787707, -2.33787707])"
      ]
     },
     "execution_count": 33,
     "metadata": {},
     "output_type": "execute_result"
    }
   ],
   "source": [
    "# Given example parameters and data point\n",
    "K_example = 2  # Number of Gaussian components\n",
    "n_example = 0  # Index of the data point we are interested in\n",
    "x_example = np.array([[1.0, 2.0]])  # Data point for the example\n",
    "mus_example = np.array([[0.0, 0.0], [2.0, 2.0]])  # Means for the Gaussian components\n",
    "Sigmas_example = np.array([[[1.0, 0.0], [0.0, 1.0]], [[1.0, 0.0], [0.0, 1.0]]])  # Covariance matrices\n",
    "\n",
    "# Calculate log_term for the example\n",
    "log_term_example = np.array([multivariate_normal.logpdf(x_example, mean=mus_example[k, :], cov=Sigmas_example[k, :, :]) for k in range(K_example)])\n",
    "log_term_example\n"
   ]
  },
  {
   "cell_type": "code",
   "execution_count": null,
   "metadata": {},
   "outputs": [],
   "source": []
  }
 ],
 "metadata": {
  "kernelspec": {
   "display_name": "Python 3 (ipykernel)",
   "language": "python",
   "name": "python3"
  },
  "language_info": {
   "codemirror_mode": {
    "name": "ipython",
    "version": 3
   },
   "file_extension": ".py",
   "mimetype": "text/x-python",
   "name": "python",
   "nbconvert_exporter": "python",
   "pygments_lexer": "ipython3",
   "version": "3.9.12"
  }
 },
 "nbformat": 4,
 "nbformat_minor": 4
}
